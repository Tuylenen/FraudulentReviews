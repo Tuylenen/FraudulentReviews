{
 "cells": [
  {
   "cell_type": "code",
   "execution_count": 1,
   "metadata": {},
   "outputs": [
    {
     "name": "stderr",
     "output_type": "stream",
     "text": [
      "C:\\Users\\Tuylenen\\Anaconda3\\lib\\site-packages\\dask\\dataframe\\utils.py:15: FutureWarning: pandas.util.testing is deprecated. Use the functions in the public API at pandas.testing instead.\n",
      "  import pandas.util.testing as tm\n"
     ]
    }
   ],
   "source": [
    "import os\n",
    "import re\n",
    "import string\n",
    "\n",
    "import numpy as np\n",
    "import pandas as pd\n",
    "import matplotlib.pyplot as plt\n",
    "import nltk\n",
    "\n",
    "import itertools\n",
    "from collections import Counter \n",
    "from nltk.corpus import stopwords\n",
    "from pymystem3 import Mystem\n",
    "from nltk.stem.snowball import SnowballStemmer\n",
    "\n",
    "from sklearn.feature_extraction.text import TfidfVectorizer\n",
    "\n",
    "from sklearn.model_selection import GridSearchCV\n",
    "\n",
    "from sklearn.linear_model import LogisticRegression\n",
    "from sklearn.ensemble import GradientBoostingClassifier\n",
    "from sklearn.naive_bayes import MultinomialNB, GaussianNB\n",
    "from sklearn.ensemble import RandomForestClassifier \n",
    "from sklearn.neighbors import KNeighborsClassifier\n",
    "from sklearn import svm\n",
    "import xgboost as xgb\n",
    "\n",
    "from sklearn.metrics import accuracy_score\n",
    "from sklearn.metrics import log_loss\n",
    "from sklearn.metrics import f1_score\n",
    "from sklearn.metrics import confusion_matrix"
   ]
  },
  {
   "cell_type": "markdown",
   "metadata": {},
   "source": [
    "## Получение данных"
   ]
  },
  {
   "cell_type": "code",
   "execution_count": 2,
   "metadata": {},
   "outputs": [],
   "source": [
    "def reading_group(html, label):\n",
    "    \n",
    "    with open(html) as f:\n",
    "        page = f.read()\n",
    "      \n",
    "    author, date, text = [], [], []\n",
    "    \n",
    "    comments = re.findall(r'<div class=\"bp_post clear_fix \"((.|\\n)*?)Показать список оценивших', page)\n",
    "    for comment in comments:\n",
    "        comment = comment[0]\n",
    "        author.append(re.search(r'<a class=\"bp_author\"(.*)\">(.*)</a>', comment)[2])\n",
    "        date.append(re.search(r'<a class=\"bp_date\"(.*)\">(.*)</a>', comment)[2])\n",
    "        try:\n",
    "            text.append(re.search(r'<div class=\"bp_text\">(.*)</div>', comment)[1])\n",
    "        except:\n",
    "            text.append('')\n",
    "\n",
    "    t_c, h_c, p_c = [], [], []\n",
    "\n",
    "    for comment in text:\n",
    "        href = re.findall(r\"^<a href(.*)mem_link(.*)(.*)</a>\", comment)\n",
    "        \n",
    "        ret = 'return showPhoto' in comment\n",
    "        p_c.append(ret)\n",
    "        \n",
    "        if href:        \n",
    "            h_lst = []\n",
    "            for n in href:\n",
    "                href = re.findall(r'Board.mentionOver\\(this\\)\">(.*)', n[1])\n",
    "                h_lst.append(href)\n",
    "            comment = \"{}, {}\".format(','.join(h_lst[0]), comment.split(\"</a>,\")[1])\n",
    "            h_c.append(h_lst[0])\n",
    "        else:\n",
    "            h_c.append(\"na\")\n",
    "        t_c.append(re.sub('<br><br>', '', re.sub('</?div(.*)>', '', comment)))\n",
    "\n",
    "    comments = pd.DataFrame(list(zip(author, date, t_c, h_c, p_c)),\n",
    "                            columns=['author', 'date', 'comment', 'mention', 'image'])\n",
    "    \n",
    "    \n",
    "    if label:\n",
    "        comments['is_fake'] = 0\n",
    "    else:\n",
    "        comments['is_fake'] = 1\n",
    "    \n",
    "    return comments"
   ]
  },
  {
   "cell_type": "code",
   "execution_count": 3,
   "metadata": {},
   "outputs": [],
   "source": [
    "def create_df(directory, label):\n",
    "    df = pd.DataFrame()\n",
    "    path = './html/' + directory\n",
    "    for filename in os.listdir(path):\n",
    "        if filename.endswith(\".html\"):\n",
    "            comments = reading_group(path + '/' + filename, label)\n",
    "            df = pd.concat([df, comments], sort=True, ignore_index=True)\n",
    "        else:\n",
    "            continue \n",
    "    return df"
   ]
  },
  {
   "cell_type": "markdown",
   "metadata": {},
   "source": [
    "**author** - the user that posted a comment<br>\n",
    "**comment** - text of the review<br>\n",
    "**date** - when a comment was created<br>\n",
    "**image** - True (1) if photos are attached, false otherwise<br>\n",
    "**mention** - True (1) if there is a mention at the start of the message of another user, false otherwise<br>\n",
    "**is_fake** - target label, True (1) if a comment is fake, false otherwise"
   ]
  },
  {
   "cell_type": "code",
   "execution_count": 4,
   "metadata": {},
   "outputs": [
    {
     "data": {
      "text/html": [
       "<div>\n",
       "<style scoped>\n",
       "    .dataframe tbody tr th:only-of-type {\n",
       "        vertical-align: middle;\n",
       "    }\n",
       "\n",
       "    .dataframe tbody tr th {\n",
       "        vertical-align: top;\n",
       "    }\n",
       "\n",
       "    .dataframe thead th {\n",
       "        text-align: right;\n",
       "    }\n",
       "</style>\n",
       "<table border=\"1\" class=\"dataframe\">\n",
       "  <thead>\n",
       "    <tr style=\"text-align: right;\">\n",
       "      <th></th>\n",
       "      <th>author</th>\n",
       "      <th>comment</th>\n",
       "      <th>date</th>\n",
       "      <th>image</th>\n",
       "      <th>is_fake</th>\n",
       "      <th>mention</th>\n",
       "    </tr>\n",
       "  </thead>\n",
       "  <tbody>\n",
       "    <tr>\n",
       "      <th>2067</th>\n",
       "      <td>Евгений Беляев</td>\n",
       "      <td>Заказывал Yezzy bost v2, шли долго из за каран...</td>\n",
       "      <td>28 апр 2020 в 19:09</td>\n",
       "      <td>True</td>\n",
       "      <td>0</td>\n",
       "      <td>na</td>\n",
       "    </tr>\n",
       "    <tr>\n",
       "      <th>2068</th>\n",
       "      <td>Андрей Ярилов</td>\n",
       "      <td>Доброго времени суток!) Заказал Yeezy 350 v2 y...</td>\n",
       "      <td>28 апр 2020 в 20:55</td>\n",
       "      <td>False</td>\n",
       "      <td>0</td>\n",
       "      <td>na</td>\n",
       "    </tr>\n",
       "    <tr>\n",
       "      <th>2069</th>\n",
       "      <td>Андрей Белый</td>\n",
       "      <td>Заказывал вчера, доставили сегодня. Спасибо бо...</td>\n",
       "      <td>29 апр 2020 в 22:35</td>\n",
       "      <td>True</td>\n",
       "      <td>0</td>\n",
       "      <td>na</td>\n",
       "    </tr>\n",
       "    <tr>\n",
       "      <th>2070</th>\n",
       "      <td>Екатерина Самылина</td>\n",
       "      <td>Качественная сумка,обязательно буду заказывать...</td>\n",
       "      <td>вчера в 14:56</td>\n",
       "      <td>True</td>\n",
       "      <td>0</td>\n",
       "      <td>na</td>\n",
       "    </tr>\n",
       "    <tr>\n",
       "      <th>2071</th>\n",
       "      <td>Никита Добрынин</td>\n",
       "      <td>Заказывал штаны Aape и лонгслив Heron Preston,...</td>\n",
       "      <td>вчера в 15:00</td>\n",
       "      <td>True</td>\n",
       "      <td>0</td>\n",
       "      <td>na</td>\n",
       "    </tr>\n",
       "  </tbody>\n",
       "</table>\n",
       "</div>"
      ],
      "text/plain": [
       "                  author                                            comment  \\\n",
       "2067      Евгений Беляев  Заказывал Yezzy bost v2, шли долго из за каран...   \n",
       "2068       Андрей Ярилов  Доброго времени суток!) Заказал Yeezy 350 v2 y...   \n",
       "2069        Андрей Белый  Заказывал вчера, доставили сегодня. Спасибо бо...   \n",
       "2070  Екатерина Самылина  Качественная сумка,обязательно буду заказывать...   \n",
       "2071     Никита Добрынин  Заказывал штаны Aape и лонгслив Heron Preston,...   \n",
       "\n",
       "                     date  image  is_fake mention  \n",
       "2067  28 апр 2020 в 19:09   True        0      na  \n",
       "2068  28 апр 2020 в 20:55  False        0      na  \n",
       "2069  29 апр 2020 в 22:35   True        0      na  \n",
       "2070        вчера в 14:56   True        0      na  \n",
       "2071        вчера в 15:00   True        0      na  "
      ]
     },
     "execution_count": 4,
     "metadata": {},
     "output_type": "execute_result"
    }
   ],
   "source": [
    "df_true = create_df('vk/true', True)\n",
    "df_true.tail()"
   ]
  },
  {
   "cell_type": "code",
   "execution_count": 5,
   "metadata": {},
   "outputs": [
    {
     "data": {
      "text/html": [
       "<div>\n",
       "<style scoped>\n",
       "    .dataframe tbody tr th:only-of-type {\n",
       "        vertical-align: middle;\n",
       "    }\n",
       "\n",
       "    .dataframe tbody tr th {\n",
       "        vertical-align: top;\n",
       "    }\n",
       "\n",
       "    .dataframe thead th {\n",
       "        text-align: right;\n",
       "    }\n",
       "</style>\n",
       "<table border=\"1\" class=\"dataframe\">\n",
       "  <thead>\n",
       "    <tr style=\"text-align: right;\">\n",
       "      <th></th>\n",
       "      <th>author</th>\n",
       "      <th>comment</th>\n",
       "      <th>date</th>\n",
       "      <th>image</th>\n",
       "      <th>is_fake</th>\n",
       "      <th>mention</th>\n",
       "    </tr>\n",
       "  </thead>\n",
       "  <tbody>\n",
       "    <tr>\n",
       "      <th>617</th>\n",
       "      <td>Вика Сергеева</td>\n",
       "      <td>Получила свои вещи, бомбер и платье безумно ра...</td>\n",
       "      <td>30 апр 2018 в 18:34</td>\n",
       "      <td>False</td>\n",
       "      <td>1</td>\n",
       "      <td>na</td>\n",
       "    </tr>\n",
       "    <tr>\n",
       "      <th>618</th>\n",
       "      <td>Олександра Аравіцька</td>\n",
       "      <td>Спасибо!!!!Очень быстро и никаких проблем, даж...</td>\n",
       "      <td>1 мая 2018 в 8:32</td>\n",
       "      <td>False</td>\n",
       "      <td>1</td>\n",
       "      <td>na</td>\n",
       "    </tr>\n",
       "    <tr>\n",
       "      <th>619</th>\n",
       "      <td>Олеся Фирсова</td>\n",
       "      <td>Спасибо большое , получила платьице, цвет как ...</td>\n",
       "      <td>7 мая 2018 в 12:55</td>\n",
       "      <td>True</td>\n",
       "      <td>1</td>\n",
       "      <td>na</td>\n",
       "    </tr>\n",
       "    <tr>\n",
       "      <th>620</th>\n",
       "      <td>Анастасия Нестерова</td>\n",
       "      <td>Сегодня доставили мне мои шлёпки и джинсы. К к...</td>\n",
       "      <td>8 мая 2018 в 15:06</td>\n",
       "      <td>False</td>\n",
       "      <td>1</td>\n",
       "      <td>na</td>\n",
       "    </tr>\n",
       "    <tr>\n",
       "      <th>621</th>\n",
       "      <td>Наталья Белоусова</td>\n",
       "      <td>Такой шикарный магазин и так мало отзывов ,это...</td>\n",
       "      <td>сегодня в 14:37</td>\n",
       "      <td>False</td>\n",
       "      <td>1</td>\n",
       "      <td>na</td>\n",
       "    </tr>\n",
       "  </tbody>\n",
       "</table>\n",
       "</div>"
      ],
      "text/plain": [
       "                   author                                            comment  \\\n",
       "617         Вика Сергеева  Получила свои вещи, бомбер и платье безумно ра...   \n",
       "618  Олександра Аравіцька  Спасибо!!!!Очень быстро и никаких проблем, даж...   \n",
       "619         Олеся Фирсова  Спасибо большое , получила платьице, цвет как ...   \n",
       "620   Анастасия Нестерова  Сегодня доставили мне мои шлёпки и джинсы. К к...   \n",
       "621     Наталья Белоусова  Такой шикарный магазин и так мало отзывов ,это...   \n",
       "\n",
       "                    date  image  is_fake mention  \n",
       "617  30 апр 2018 в 18:34  False        1      na  \n",
       "618    1 мая 2018 в 8:32  False        1      na  \n",
       "619   7 мая 2018 в 12:55   True        1      na  \n",
       "620   8 мая 2018 в 15:06  False        1      na  \n",
       "621      сегодня в 14:37  False        1      na  "
      ]
     },
     "execution_count": 5,
     "metadata": {},
     "output_type": "execute_result"
    }
   ],
   "source": [
    "df_false = create_df('vk/false', False)\n",
    "df_false.tail()"
   ]
  },
  {
   "cell_type": "code",
   "execution_count": 6,
   "metadata": {},
   "outputs": [
    {
     "data": {
      "text/html": [
       "<div>\n",
       "<style scoped>\n",
       "    .dataframe tbody tr th:only-of-type {\n",
       "        vertical-align: middle;\n",
       "    }\n",
       "\n",
       "    .dataframe tbody tr th {\n",
       "        vertical-align: top;\n",
       "    }\n",
       "\n",
       "    .dataframe thead th {\n",
       "        text-align: right;\n",
       "    }\n",
       "</style>\n",
       "<table border=\"1\" class=\"dataframe\">\n",
       "  <thead>\n",
       "    <tr style=\"text-align: right;\">\n",
       "      <th></th>\n",
       "      <th>author</th>\n",
       "      <th>comment</th>\n",
       "      <th>date</th>\n",
       "      <th>image</th>\n",
       "      <th>is_fake</th>\n",
       "      <th>mention</th>\n",
       "    </tr>\n",
       "  </thead>\n",
       "  <tbody>\n",
       "    <tr>\n",
       "      <th>0</th>\n",
       "      <td>Магазин кроссовок / Sniiiky</td>\n",
       "      <td>Тема только для отзывов! За отзыв с фото вы по...</td>\n",
       "      <td>21 сен 2017 в 2:16</td>\n",
       "      <td>False</td>\n",
       "      <td>1</td>\n",
       "      <td>na</td>\n",
       "    </tr>\n",
       "    <tr>\n",
       "      <th>1</th>\n",
       "      <td>Анна Токарева</td>\n",
       "      <td>Сегодня забрала на почте! Качество отличное, у...</td>\n",
       "      <td>25 ноя 2017 в 6:46</td>\n",
       "      <td>True</td>\n",
       "      <td>1</td>\n",
       "      <td>na</td>\n",
       "    </tr>\n",
       "    <tr>\n",
       "      <th>2</th>\n",
       "      <td>Магазин кроссовок / Sniiiky</td>\n",
       "      <td>Анна,  спасибо! &lt;img class=\"emoji_css\" alt=\"&amp;#...</td>\n",
       "      <td>25 ноя 2017 в 9:04</td>\n",
       "      <td>False</td>\n",
       "      <td>1</td>\n",
       "      <td>[Анна]</td>\n",
       "    </tr>\n",
       "    <tr>\n",
       "      <th>3</th>\n",
       "      <td>Анна Николаева</td>\n",
       "      <td>Вчера получила, до сих пор не нарадуюсь и про ...</td>\n",
       "      <td>27 ноя 2017 в 16:20</td>\n",
       "      <td>True</td>\n",
       "      <td>1</td>\n",
       "      <td>na</td>\n",
       "    </tr>\n",
       "    <tr>\n",
       "      <th>4</th>\n",
       "      <td>Магазин кроссовок / Sniiiky</td>\n",
       "      <td>Анна,  спасибо! &lt;img class=\"emoji_css\" alt=\"&amp;#...</td>\n",
       "      <td>27 ноя 2017 в 19:22</td>\n",
       "      <td>False</td>\n",
       "      <td>1</td>\n",
       "      <td>[Анна]</td>\n",
       "    </tr>\n",
       "    <tr>\n",
       "      <th>...</th>\n",
       "      <td>...</td>\n",
       "      <td>...</td>\n",
       "      <td>...</td>\n",
       "      <td>...</td>\n",
       "      <td>...</td>\n",
       "      <td>...</td>\n",
       "    </tr>\n",
       "    <tr>\n",
       "      <th>2689</th>\n",
       "      <td>Евгений Беляев</td>\n",
       "      <td>Заказывал Yezzy bost v2, шли долго из за каран...</td>\n",
       "      <td>28 апр 2020 в 19:09</td>\n",
       "      <td>True</td>\n",
       "      <td>0</td>\n",
       "      <td>na</td>\n",
       "    </tr>\n",
       "    <tr>\n",
       "      <th>2690</th>\n",
       "      <td>Андрей Ярилов</td>\n",
       "      <td>Доброго времени суток!) Заказал Yeezy 350 v2 y...</td>\n",
       "      <td>28 апр 2020 в 20:55</td>\n",
       "      <td>False</td>\n",
       "      <td>0</td>\n",
       "      <td>na</td>\n",
       "    </tr>\n",
       "    <tr>\n",
       "      <th>2691</th>\n",
       "      <td>Андрей Белый</td>\n",
       "      <td>Заказывал вчера, доставили сегодня. Спасибо бо...</td>\n",
       "      <td>29 апр 2020 в 22:35</td>\n",
       "      <td>True</td>\n",
       "      <td>0</td>\n",
       "      <td>na</td>\n",
       "    </tr>\n",
       "    <tr>\n",
       "      <th>2692</th>\n",
       "      <td>Екатерина Самылина</td>\n",
       "      <td>Качественная сумка,обязательно буду заказывать...</td>\n",
       "      <td>вчера в 14:56</td>\n",
       "      <td>True</td>\n",
       "      <td>0</td>\n",
       "      <td>na</td>\n",
       "    </tr>\n",
       "    <tr>\n",
       "      <th>2693</th>\n",
       "      <td>Никита Добрынин</td>\n",
       "      <td>Заказывал штаны Aape и лонгслив Heron Preston,...</td>\n",
       "      <td>вчера в 15:00</td>\n",
       "      <td>True</td>\n",
       "      <td>0</td>\n",
       "      <td>na</td>\n",
       "    </tr>\n",
       "  </tbody>\n",
       "</table>\n",
       "<p>2694 rows × 6 columns</p>\n",
       "</div>"
      ],
      "text/plain": [
       "                           author  \\\n",
       "0     Магазин кроссовок / Sniiiky   \n",
       "1                   Анна Токарева   \n",
       "2     Магазин кроссовок / Sniiiky   \n",
       "3                  Анна Николаева   \n",
       "4     Магазин кроссовок / Sniiiky   \n",
       "...                           ...   \n",
       "2689               Евгений Беляев   \n",
       "2690                Андрей Ярилов   \n",
       "2691                 Андрей Белый   \n",
       "2692           Екатерина Самылина   \n",
       "2693              Никита Добрынин   \n",
       "\n",
       "                                                comment                 date  \\\n",
       "0     Тема только для отзывов! За отзыв с фото вы по...   21 сен 2017 в 2:16   \n",
       "1     Сегодня забрала на почте! Качество отличное, у...   25 ноя 2017 в 6:46   \n",
       "2     Анна,  спасибо! <img class=\"emoji_css\" alt=\"&#...   25 ноя 2017 в 9:04   \n",
       "3     Вчера получила, до сих пор не нарадуюсь и про ...  27 ноя 2017 в 16:20   \n",
       "4     Анна,  спасибо! <img class=\"emoji_css\" alt=\"&#...  27 ноя 2017 в 19:22   \n",
       "...                                                 ...                  ...   \n",
       "2689  Заказывал Yezzy bost v2, шли долго из за каран...  28 апр 2020 в 19:09   \n",
       "2690  Доброго времени суток!) Заказал Yeezy 350 v2 y...  28 апр 2020 в 20:55   \n",
       "2691  Заказывал вчера, доставили сегодня. Спасибо бо...  29 апр 2020 в 22:35   \n",
       "2692  Качественная сумка,обязательно буду заказывать...        вчера в 14:56   \n",
       "2693  Заказывал штаны Aape и лонгслив Heron Preston,...        вчера в 15:00   \n",
       "\n",
       "      image  is_fake mention  \n",
       "0     False        1      na  \n",
       "1      True        1      na  \n",
       "2     False        1  [Анна]  \n",
       "3      True        1      na  \n",
       "4     False        1  [Анна]  \n",
       "...     ...      ...     ...  \n",
       "2689   True        0      na  \n",
       "2690  False        0      na  \n",
       "2691   True        0      na  \n",
       "2692   True        0      na  \n",
       "2693   True        0      na  \n",
       "\n",
       "[2694 rows x 6 columns]"
      ]
     },
     "execution_count": 6,
     "metadata": {},
     "output_type": "execute_result"
    }
   ],
   "source": [
    "df = pd.concat([df_false, df_true], sort=True, ignore_index=True)\n",
    "df"
   ]
  },
  {
   "cell_type": "markdown",
   "metadata": {},
   "source": [
    "## Предобработка данных"
   ]
  },
  {
   "cell_type": "code",
   "execution_count": 7,
   "metadata": {},
   "outputs": [],
   "source": [
    "owners = ['BERISHMOT Store', 'Андрей Северец', 'Магазин кроссовок / Sniiiky',\n",
    "          'Настя Осипова', '|Мобильные телефоны|', 'RUDI ROYALE', 'NICE DEVISE | Москва',\n",
    "          'Lovely Shop - магазин женской одежды', 'Non S7op Shop (Nike~Reebok~Adidas~Asics)',\n",
    "          'Модная женская одежда \"Valum\"', \"Lady's Shop - магазин шикарной одежды\"]\n",
    "\n",
    "for i in owners:\n",
    "    df = df[df.author != i]"
   ]
  },
  {
   "cell_type": "code",
   "execution_count": 8,
   "metadata": {},
   "outputs": [],
   "source": [
    "def clean_str(string):\n",
    "    \"\"\"\n",
    "    String cleaning: return only words\n",
    "    \"\"\"\n",
    "    string = re.sub('<.*?>', '', string)\n",
    "    string = re.sub(r\"\\s{2,}\", \" \", string)\n",
    "    return string\n",
    "\n",
    "df['comment'] = df['comment'].apply(clean_str)"
   ]
  },
  {
   "cell_type": "code",
   "execution_count": 9,
   "metadata": {},
   "outputs": [],
   "source": [
    "df = df[df.comment.notna()]\n",
    "df = df.drop(df.columns[[0]], axis=1)\n",
    "df.to_csv('out.csv', encoding='utf-8-sig')"
   ]
  },
  {
   "cell_type": "code",
   "execution_count": 10,
   "metadata": {},
   "outputs": [
    {
     "data": {
      "text/html": [
       "<div>\n",
       "<style scoped>\n",
       "    .dataframe tbody tr th:only-of-type {\n",
       "        vertical-align: middle;\n",
       "    }\n",
       "\n",
       "    .dataframe tbody tr th {\n",
       "        vertical-align: top;\n",
       "    }\n",
       "\n",
       "    .dataframe thead th {\n",
       "        text-align: right;\n",
       "    }\n",
       "</style>\n",
       "<table border=\"1\" class=\"dataframe\">\n",
       "  <thead>\n",
       "    <tr style=\"text-align: right;\">\n",
       "      <th></th>\n",
       "      <th>comment</th>\n",
       "      <th>date</th>\n",
       "      <th>image</th>\n",
       "      <th>is_fake</th>\n",
       "      <th>mention</th>\n",
       "    </tr>\n",
       "  </thead>\n",
       "  <tbody>\n",
       "    <tr>\n",
       "      <th>0</th>\n",
       "      <td>Сегодня забрала на почте! Качество отличное, у...</td>\n",
       "      <td>25 ноя 2017 в 6:46</td>\n",
       "      <td>True</td>\n",
       "      <td>1</td>\n",
       "      <td>na</td>\n",
       "    </tr>\n",
       "    <tr>\n",
       "      <th>1</th>\n",
       "      <td>Вчера получила, до сих пор не нарадуюсь и про ...</td>\n",
       "      <td>27 ноя 2017 в 16:20</td>\n",
       "      <td>True</td>\n",
       "      <td>1</td>\n",
       "      <td>na</td>\n",
       "    </tr>\n",
       "    <tr>\n",
       "      <th>2</th>\n",
       "      <td>Спасибо большое Всё отлично! Очень нравится</td>\n",
       "      <td>28 ноя 2017 в 14:07</td>\n",
       "      <td>True</td>\n",
       "      <td>1</td>\n",
       "      <td>na</td>\n",
       "    </tr>\n",
       "    <tr>\n",
       "      <th>3</th>\n",
       "      <td>Спасибо за офигенные кроссы &amp;#129303;</td>\n",
       "      <td>1 дек 2017 в 20:55</td>\n",
       "      <td>True</td>\n",
       "      <td>1</td>\n",
       "      <td>na</td>\n",
       "    </tr>\n",
       "    <tr>\n",
       "      <th>4</th>\n",
       "      <td>Всё получила, переживала за качество и что дру...</td>\n",
       "      <td>2 дек 2017 в 17:22</td>\n",
       "      <td>True</td>\n",
       "      <td>1</td>\n",
       "      <td>na</td>\n",
       "    </tr>\n",
       "    <tr>\n",
       "      <th>...</th>\n",
       "      <td>...</td>\n",
       "      <td>...</td>\n",
       "      <td>...</td>\n",
       "      <td>...</td>\n",
       "      <td>...</td>\n",
       "    </tr>\n",
       "    <tr>\n",
       "      <th>2146</th>\n",
       "      <td>Заказывал Yezzy bost v2, шли долго из за каран...</td>\n",
       "      <td>28 апр 2020 в 19:09</td>\n",
       "      <td>True</td>\n",
       "      <td>0</td>\n",
       "      <td>na</td>\n",
       "    </tr>\n",
       "    <tr>\n",
       "      <th>2147</th>\n",
       "      <td>Доброго времени суток!) Заказал Yeezy 350 v2 y...</td>\n",
       "      <td>28 апр 2020 в 20:55</td>\n",
       "      <td>False</td>\n",
       "      <td>0</td>\n",
       "      <td>na</td>\n",
       "    </tr>\n",
       "    <tr>\n",
       "      <th>2148</th>\n",
       "      <td>Заказывал вчера, доставили сегодня. Спасибо бо...</td>\n",
       "      <td>29 апр 2020 в 22:35</td>\n",
       "      <td>True</td>\n",
       "      <td>0</td>\n",
       "      <td>na</td>\n",
       "    </tr>\n",
       "    <tr>\n",
       "      <th>2149</th>\n",
       "      <td>Качественная сумка,обязательно буду заказывать...</td>\n",
       "      <td>вчера в 14:56</td>\n",
       "      <td>True</td>\n",
       "      <td>0</td>\n",
       "      <td>na</td>\n",
       "    </tr>\n",
       "    <tr>\n",
       "      <th>2150</th>\n",
       "      <td>Заказывал штаны Aape и лонгслив Heron Preston,...</td>\n",
       "      <td>вчера в 15:00</td>\n",
       "      <td>True</td>\n",
       "      <td>0</td>\n",
       "      <td>na</td>\n",
       "    </tr>\n",
       "  </tbody>\n",
       "</table>\n",
       "<p>2151 rows × 5 columns</p>\n",
       "</div>"
      ],
      "text/plain": [
       "                                                comment                 date  \\\n",
       "0     Сегодня забрала на почте! Качество отличное, у...   25 ноя 2017 в 6:46   \n",
       "1     Вчера получила, до сих пор не нарадуюсь и про ...  27 ноя 2017 в 16:20   \n",
       "2          Спасибо большое Всё отлично! Очень нравится   28 ноя 2017 в 14:07   \n",
       "3                 Спасибо за офигенные кроссы &#129303;   1 дек 2017 в 20:55   \n",
       "4     Всё получила, переживала за качество и что дру...   2 дек 2017 в 17:22   \n",
       "...                                                 ...                  ...   \n",
       "2146  Заказывал Yezzy bost v2, шли долго из за каран...  28 апр 2020 в 19:09   \n",
       "2147  Доброго времени суток!) Заказал Yeezy 350 v2 y...  28 апр 2020 в 20:55   \n",
       "2148  Заказывал вчера, доставили сегодня. Спасибо бо...  29 апр 2020 в 22:35   \n",
       "2149  Качественная сумка,обязательно буду заказывать...        вчера в 14:56   \n",
       "2150  Заказывал штаны Aape и лонгслив Heron Preston,...        вчера в 15:00   \n",
       "\n",
       "      image  is_fake mention  \n",
       "0      True        1      na  \n",
       "1      True        1      na  \n",
       "2      True        1      na  \n",
       "3      True        1      na  \n",
       "4      True        1      na  \n",
       "...     ...      ...     ...  \n",
       "2146   True        0      na  \n",
       "2147  False        0      na  \n",
       "2148   True        0      na  \n",
       "2149   True        0      na  \n",
       "2150   True        0      na  \n",
       "\n",
       "[2151 rows x 5 columns]"
      ]
     },
     "execution_count": 10,
     "metadata": {},
     "output_type": "execute_result"
    }
   ],
   "source": [
    "df = pd.read_csv('out.csv')\n",
    "df = df.drop(df.columns[[0]], axis=1)\n",
    "df"
   ]
  },
  {
   "cell_type": "code",
   "execution_count": 11,
   "metadata": {},
   "outputs": [],
   "source": [
    "df = df[df.mention == 'na']\n",
    "df = df.reset_index().drop(['mention', 'index'], axis=1)"
   ]
  },
  {
   "cell_type": "markdown",
   "metadata": {},
   "source": [
    "# Исследование данных"
   ]
  },
  {
   "cell_type": "code",
   "execution_count": 12,
   "metadata": {},
   "outputs": [
    {
     "data": {
      "text/plain": [
       "0    1324\n",
       "1     452\n",
       "Name: is_fake, dtype: int64"
      ]
     },
     "execution_count": 12,
     "metadata": {},
     "output_type": "execute_result"
    }
   ],
   "source": [
    "df['is_fake'].value_counts()"
   ]
  },
  {
   "cell_type": "code",
   "execution_count": 13,
   "metadata": {},
   "outputs": [
    {
     "data": {
      "text/plain": [
       "True     1285\n",
       "False     491\n",
       "Name: image, dtype: int64"
      ]
     },
     "execution_count": 13,
     "metadata": {},
     "output_type": "execute_result"
    }
   ],
   "source": [
    "df['image'].value_counts()"
   ]
  },
  {
   "cell_type": "code",
   "execution_count": 14,
   "metadata": {},
   "outputs": [
    {
     "data": {
      "text/plain": [
       "0.723536036036036"
      ]
     },
     "execution_count": 14,
     "metadata": {},
     "output_type": "execute_result"
    }
   ],
   "source": [
    "1285 / (1285 + 491)"
   ]
  },
  {
   "cell_type": "code",
   "execution_count": 15,
   "metadata": {},
   "outputs": [
    {
     "data": {
      "text/plain": [
       "0.6946902654867256"
      ]
     },
     "execution_count": 15,
     "metadata": {},
     "output_type": "execute_result"
    }
   ],
   "source": [
    "len(df[(df.image==True) & (df.is_fake==1)]) / len(df[df.is_fake==1])"
   ]
  },
  {
   "cell_type": "code",
   "execution_count": 16,
   "metadata": {},
   "outputs": [
    {
     "data": {
      "text/plain": [
       "0.7333836858006042"
      ]
     },
     "execution_count": 16,
     "metadata": {},
     "output_type": "execute_result"
    }
   ],
   "source": [
    "len(df[(df.image==True) & (df.is_fake==0)]) / len(df[df.is_fake==0])"
   ]
  },
  {
   "cell_type": "code",
   "execution_count": 17,
   "metadata": {},
   "outputs": [],
   "source": [
    "df_add = df.copy()\n",
    "\n",
    "df_add['count_words'] = df[\"comment\"].apply(lambda x: len(str(x).split()))\n",
    "df_add['count_unique_words'] = df[\"comment\"].apply(lambda x: len(set(str(x).split())))\n",
    "df_add['count_letters'] = df[\"comment\"].apply(lambda x: len(str(x)))\n",
    "df_add[\"count_punctuations\"] = df[\"comment\"].apply(lambda x: len([c for c in str(x) if c in string.punctuation]))\n",
    "df_add[\"count_words_upper\"] = df[\"comment\"].apply(lambda x: len([w for w in str(x).split() if w.isupper()]))\n",
    "df_add[\"count_words_title\"] = df[\"comment\"].apply(lambda x: len([w for w in str(x).split() if w.istitle()]))"
   ]
  },
  {
   "cell_type": "code",
   "execution_count": 18,
   "metadata": {},
   "outputs": [
    {
     "data": {
      "text/html": [
       "<div>\n",
       "<style scoped>\n",
       "    .dataframe tbody tr th:only-of-type {\n",
       "        vertical-align: middle;\n",
       "    }\n",
       "\n",
       "    .dataframe tbody tr th {\n",
       "        vertical-align: top;\n",
       "    }\n",
       "\n",
       "    .dataframe thead th {\n",
       "        text-align: right;\n",
       "    }\n",
       "</style>\n",
       "<table border=\"1\" class=\"dataframe\">\n",
       "  <thead>\n",
       "    <tr style=\"text-align: right;\">\n",
       "      <th></th>\n",
       "      <th>comment</th>\n",
       "      <th>date</th>\n",
       "      <th>image</th>\n",
       "      <th>is_fake</th>\n",
       "      <th>count_words</th>\n",
       "      <th>count_unique_words</th>\n",
       "      <th>count_letters</th>\n",
       "      <th>count_punctuations</th>\n",
       "      <th>count_words_upper</th>\n",
       "      <th>count_words_title</th>\n",
       "    </tr>\n",
       "  </thead>\n",
       "  <tbody>\n",
       "    <tr>\n",
       "      <th>1771</th>\n",
       "      <td>Заказывал Yezzy bost v2, шли долго из за каран...</td>\n",
       "      <td>28 апр 2020 в 19:09</td>\n",
       "      <td>True</td>\n",
       "      <td>0</td>\n",
       "      <td>21</td>\n",
       "      <td>21</td>\n",
       "      <td>132</td>\n",
       "      <td>4</td>\n",
       "      <td>0</td>\n",
       "      <td>3</td>\n",
       "    </tr>\n",
       "    <tr>\n",
       "      <th>1772</th>\n",
       "      <td>Доброго времени суток!) Заказал Yeezy 350 v2 y...</td>\n",
       "      <td>28 апр 2020 в 20:55</td>\n",
       "      <td>False</td>\n",
       "      <td>0</td>\n",
       "      <td>36</td>\n",
       "      <td>36</td>\n",
       "      <td>230</td>\n",
       "      <td>11</td>\n",
       "      <td>0</td>\n",
       "      <td>6</td>\n",
       "    </tr>\n",
       "    <tr>\n",
       "      <th>1773</th>\n",
       "      <td>Заказывал вчера, доставили сегодня. Спасибо бо...</td>\n",
       "      <td>29 апр 2020 в 22:35</td>\n",
       "      <td>True</td>\n",
       "      <td>0</td>\n",
       "      <td>18</td>\n",
       "      <td>17</td>\n",
       "      <td>125</td>\n",
       "      <td>4</td>\n",
       "      <td>0</td>\n",
       "      <td>3</td>\n",
       "    </tr>\n",
       "    <tr>\n",
       "      <th>1774</th>\n",
       "      <td>Качественная сумка,обязательно буду заказывать...</td>\n",
       "      <td>вчера в 14:56</td>\n",
       "      <td>True</td>\n",
       "      <td>0</td>\n",
       "      <td>6</td>\n",
       "      <td>6</td>\n",
       "      <td>62</td>\n",
       "      <td>3</td>\n",
       "      <td>0</td>\n",
       "      <td>1</td>\n",
       "    </tr>\n",
       "    <tr>\n",
       "      <th>1775</th>\n",
       "      <td>Заказывал штаны Aape и лонгслив Heron Preston,...</td>\n",
       "      <td>вчера в 15:00</td>\n",
       "      <td>True</td>\n",
       "      <td>0</td>\n",
       "      <td>15</td>\n",
       "      <td>15</td>\n",
       "      <td>111</td>\n",
       "      <td>7</td>\n",
       "      <td>0</td>\n",
       "      <td>4</td>\n",
       "    </tr>\n",
       "  </tbody>\n",
       "</table>\n",
       "</div>"
      ],
      "text/plain": [
       "                                                comment                 date  \\\n",
       "1771  Заказывал Yezzy bost v2, шли долго из за каран...  28 апр 2020 в 19:09   \n",
       "1772  Доброго времени суток!) Заказал Yeezy 350 v2 y...  28 апр 2020 в 20:55   \n",
       "1773  Заказывал вчера, доставили сегодня. Спасибо бо...  29 апр 2020 в 22:35   \n",
       "1774  Качественная сумка,обязательно буду заказывать...        вчера в 14:56   \n",
       "1775  Заказывал штаны Aape и лонгслив Heron Preston,...        вчера в 15:00   \n",
       "\n",
       "      image  is_fake  count_words  count_unique_words  count_letters  \\\n",
       "1771   True        0           21                  21            132   \n",
       "1772  False        0           36                  36            230   \n",
       "1773   True        0           18                  17            125   \n",
       "1774   True        0            6                   6             62   \n",
       "1775   True        0           15                  15            111   \n",
       "\n",
       "      count_punctuations  count_words_upper  count_words_title  \n",
       "1771                   4                  0                  3  \n",
       "1772                  11                  0                  6  \n",
       "1773                   4                  0                  3  \n",
       "1774                   3                  0                  1  \n",
       "1775                   7                  0                  4  "
      ]
     },
     "execution_count": 18,
     "metadata": {},
     "output_type": "execute_result"
    }
   ],
   "source": [
    "df_add.tail()"
   ]
  },
  {
   "cell_type": "code",
   "execution_count": 19,
   "metadata": {},
   "outputs": [
    {
     "data": {
      "text/plain": [
       "Index(['comment', 'date', 'image', 'is_fake', 'count_words',\n",
       "       'count_unique_words', 'count_letters', 'count_punctuations',\n",
       "       'count_words_upper', 'count_words_title'],\n",
       "      dtype='object')"
      ]
     },
     "execution_count": 19,
     "metadata": {},
     "output_type": "execute_result"
    }
   ],
   "source": [
    "df_add.columns"
   ]
  },
  {
   "cell_type": "code",
   "execution_count": 20,
   "metadata": {},
   "outputs": [
    {
     "name": "stdout",
     "output_type": "stream",
     "text": [
      "20.278761061946902\n",
      "21.395770392749245\n"
     ]
    }
   ],
   "source": [
    "print(df_add[df_add.is_fake == True].count_words.mean())\n",
    "print(df_add[df_add.is_fake == False].count_words.mean())"
   ]
  },
  {
   "cell_type": "code",
   "execution_count": 21,
   "metadata": {},
   "outputs": [
    {
     "name": "stdout",
     "output_type": "stream",
     "text": [
      "19.263274336283185\n",
      "19.85347432024169\n"
     ]
    }
   ],
   "source": [
    "print(df_add[df_add.is_fake == True].count_unique_words.mean())\n",
    "print(df_add[df_add.is_fake == False].count_unique_words.mean())"
   ]
  },
  {
   "cell_type": "code",
   "execution_count": 22,
   "metadata": {},
   "outputs": [
    {
     "name": "stdout",
     "output_type": "stream",
     "text": [
      "141.05752212389382\n",
      "144.58383685800604\n"
     ]
    }
   ],
   "source": [
    "print(df_add[df_add.is_fake == True].count_letters.mean())\n",
    "print(df_add[df_add.is_fake == False].count_letters.mean())"
   ]
  },
  {
   "cell_type": "code",
   "execution_count": 23,
   "metadata": {},
   "outputs": [
    {
     "name": "stdout",
     "output_type": "stream",
     "text": [
      "6.814159292035399\n",
      "6.009818731117825\n"
     ]
    }
   ],
   "source": [
    "print(df_add[df_add.is_fake == True].count_punctuations.mean())\n",
    "print(df_add[df_add.is_fake == False].count_punctuations.mean())"
   ]
  },
  {
   "cell_type": "code",
   "execution_count": 24,
   "metadata": {},
   "outputs": [
    {
     "name": "stdout",
     "output_type": "stream",
     "text": [
      "0.21238938053097345\n",
      "0.36555891238670696\n"
     ]
    }
   ],
   "source": [
    "print(df_add[df_add.is_fake == True].count_words_upper.mean())\n",
    "print(df_add[df_add.is_fake == False].count_words_upper.mean())"
   ]
  },
  {
   "cell_type": "code",
   "execution_count": 25,
   "metadata": {},
   "outputs": [
    {
     "name": "stdout",
     "output_type": "stream",
     "text": [
      "2.418141592920354\n",
      "3.0589123867069485\n"
     ]
    }
   ],
   "source": [
    "print(df_add[df_add.is_fake == True].count_words_title.mean())\n",
    "print(df_add[df_add.is_fake == False].count_words_title.mean())"
   ]
  },
  {
   "cell_type": "markdown",
   "metadata": {},
   "source": [
    "## Tokenizing words"
   ]
  },
  {
   "cell_type": "code",
   "execution_count": 26,
   "metadata": {},
   "outputs": [],
   "source": [
    "vocabulary = []\n",
    "numWords = []\n",
    "lemmatized_texts = []\n",
    "\n",
    "def text_lemmatize(text):\n",
    "    global vocabulary \n",
    "    global numWords\n",
    "    try:\n",
    "        text = re.sub(r\"[^А-Яа-яё]\", \" \", text).strip()\n",
    "        ps = Mystem()\n",
    "        text = ps.lemmatize(text)\n",
    "        lemmatized_texts.append(text)\n",
    "        vocabulary.extend(text)\n",
    "        numWords.append(len(text))\n",
    "        return ' '.join(text)\n",
    "    except:\n",
    "        lemmatized_texts.append('')\n",
    "        return ''"
   ]
  },
  {
   "cell_type": "code",
   "execution_count": 27,
   "metadata": {},
   "outputs": [
    {
     "name": "stdout",
     "output_type": "stream",
     "text": [
      "Total reviews:  1750\n",
      "Total words:  73588\n",
      "Vocabulary size:  3011\n",
      "Average number of words in a review:  42.050285714285714\n"
     ]
    }
   ],
   "source": [
    "df_lem = df.copy()\n",
    "df_lem['comment'] = df_lem['comment'].apply(text_lemmatize)\n",
    "\n",
    "vocabulary = list(set(vocabulary))\n",
    "\n",
    "print('Total reviews: ', len(numWords))\n",
    "print('Total words: ', sum(numWords))\n",
    "print('Vocabulary size: ', len(vocabulary))\n",
    "print('Average number of words in a review: ', sum(numWords)/len(numWords))"
   ]
  },
  {
   "cell_type": "code",
   "execution_count": 28,
   "metadata": {},
   "outputs": [
    {
     "data": {
      "text/html": [
       "<div>\n",
       "<style scoped>\n",
       "    .dataframe tbody tr th:only-of-type {\n",
       "        vertical-align: middle;\n",
       "    }\n",
       "\n",
       "    .dataframe tbody tr th {\n",
       "        vertical-align: top;\n",
       "    }\n",
       "\n",
       "    .dataframe thead th {\n",
       "        text-align: right;\n",
       "    }\n",
       "</style>\n",
       "<table border=\"1\" class=\"dataframe\">\n",
       "  <thead>\n",
       "    <tr style=\"text-align: right;\">\n",
       "      <th></th>\n",
       "      <th>comment</th>\n",
       "      <th>date</th>\n",
       "      <th>image</th>\n",
       "      <th>is_fake</th>\n",
       "      <th>lemmas</th>\n",
       "    </tr>\n",
       "  </thead>\n",
       "  <tbody>\n",
       "    <tr>\n",
       "      <th>0</th>\n",
       "      <td>сегодня   забирать   на   почта    качество   ...</td>\n",
       "      <td>25 ноя 2017 в 6:46</td>\n",
       "      <td>True</td>\n",
       "      <td>1</td>\n",
       "      <td>[сегодня,  , забирать,  , на,  , почта,   , ка...</td>\n",
       "    </tr>\n",
       "    <tr>\n",
       "      <th>1</th>\n",
       "      <td>вчера   получать    до   сей   пора   не   нар...</td>\n",
       "      <td>27 ноя 2017 в 16:20</td>\n",
       "      <td>True</td>\n",
       "      <td>1</td>\n",
       "      <td>[вчера,  , получать,   , до,  , сей,  , пора, ...</td>\n",
       "    </tr>\n",
       "    <tr>\n",
       "      <th>2</th>\n",
       "      <td>спасибо   большой   все   отличный    очень   ...</td>\n",
       "      <td>28 ноя 2017 в 14:07</td>\n",
       "      <td>True</td>\n",
       "      <td>1</td>\n",
       "      <td>[спасибо,  , большой,  , все,  , отличный,   ,...</td>\n",
       "    </tr>\n",
       "    <tr>\n",
       "      <th>3</th>\n",
       "      <td>спасибо   за   офигенный   кросс \\n</td>\n",
       "      <td>1 дек 2017 в 20:55</td>\n",
       "      <td>True</td>\n",
       "      <td>1</td>\n",
       "      <td>[спасибо,  , за,  , офигенный,  , кросс, \\n]</td>\n",
       "    </tr>\n",
       "    <tr>\n",
       "      <th>4</th>\n",
       "      <td>все   получать    переживать   за   качество  ...</td>\n",
       "      <td>2 дек 2017 в 17:22</td>\n",
       "      <td>True</td>\n",
       "      <td>1</td>\n",
       "      <td>[все,  , получать,   , переживать,  , за,  , к...</td>\n",
       "    </tr>\n",
       "    <tr>\n",
       "      <th>...</th>\n",
       "      <td>...</td>\n",
       "      <td>...</td>\n",
       "      <td>...</td>\n",
       "      <td>...</td>\n",
       "      <td>...</td>\n",
       "    </tr>\n",
       "    <tr>\n",
       "      <th>1771</th>\n",
       "      <td>заказывать                  идти   долго   из ...</td>\n",
       "      <td>28 апр 2020 в 19:09</td>\n",
       "      <td>True</td>\n",
       "      <td>0</td>\n",
       "      <td>[заказывать,                 , идти,  , долго,...</td>\n",
       "    </tr>\n",
       "    <tr>\n",
       "      <th>1772</th>\n",
       "      <td>добрый   время   сутки     заказывать         ...</td>\n",
       "      <td>28 апр 2020 в 20:55</td>\n",
       "      <td>False</td>\n",
       "      <td>0</td>\n",
       "      <td>[добрый,  , время,  , сутки,    , заказывать, ...</td>\n",
       "    </tr>\n",
       "    <tr>\n",
       "      <th>1773</th>\n",
       "      <td>заказывать   вчера    доставлять   сегодня    ...</td>\n",
       "      <td>29 апр 2020 в 22:35</td>\n",
       "      <td>True</td>\n",
       "      <td>0</td>\n",
       "      <td>[заказывать,  , вчера,   , доставлять,  , сего...</td>\n",
       "    </tr>\n",
       "    <tr>\n",
       "      <th>1774</th>\n",
       "      <td>качественный   сумка   обязательно   быть   за...</td>\n",
       "      <td>вчера в 14:56</td>\n",
       "      <td>True</td>\n",
       "      <td>0</td>\n",
       "      <td>[качественный,  , сумка,  , обязательно,  , бы...</td>\n",
       "    </tr>\n",
       "    <tr>\n",
       "      <th>1775</th>\n",
       "      <td>заказывать   штаны        и   лонгслив        ...</td>\n",
       "      <td>вчера в 15:00</td>\n",
       "      <td>True</td>\n",
       "      <td>0</td>\n",
       "      <td>[заказывать,  , штаны,       , и,  , лонгслив,...</td>\n",
       "    </tr>\n",
       "  </tbody>\n",
       "</table>\n",
       "<p>1776 rows × 5 columns</p>\n",
       "</div>"
      ],
      "text/plain": [
       "                                                comment                 date  \\\n",
       "0     сегодня   забирать   на   почта    качество   ...   25 ноя 2017 в 6:46   \n",
       "1     вчера   получать    до   сей   пора   не   нар...  27 ноя 2017 в 16:20   \n",
       "2     спасибо   большой   все   отличный    очень   ...  28 ноя 2017 в 14:07   \n",
       "3                   спасибо   за   офигенный   кросс \\n   1 дек 2017 в 20:55   \n",
       "4     все   получать    переживать   за   качество  ...   2 дек 2017 в 17:22   \n",
       "...                                                 ...                  ...   \n",
       "1771  заказывать                  идти   долго   из ...  28 апр 2020 в 19:09   \n",
       "1772  добрый   время   сутки     заказывать         ...  28 апр 2020 в 20:55   \n",
       "1773  заказывать   вчера    доставлять   сегодня    ...  29 апр 2020 в 22:35   \n",
       "1774  качественный   сумка   обязательно   быть   за...        вчера в 14:56   \n",
       "1775  заказывать   штаны        и   лонгслив        ...        вчера в 15:00   \n",
       "\n",
       "      image  is_fake                                             lemmas  \n",
       "0      True        1  [сегодня,  , забирать,  , на,  , почта,   , ка...  \n",
       "1      True        1  [вчера,  , получать,   , до,  , сей,  , пора, ...  \n",
       "2      True        1  [спасибо,  , большой,  , все,  , отличный,   ,...  \n",
       "3      True        1       [спасибо,  , за,  , офигенный,  , кросс, \\n]  \n",
       "4      True        1  [все,  , получать,   , переживать,  , за,  , к...  \n",
       "...     ...      ...                                                ...  \n",
       "1771   True        0  [заказывать,                 , идти,  , долго,...  \n",
       "1772  False        0  [добрый,  , время,  , сутки,    , заказывать, ...  \n",
       "1773   True        0  [заказывать,  , вчера,   , доставлять,  , сего...  \n",
       "1774   True        0  [качественный,  , сумка,  , обязательно,  , бы...  \n",
       "1775   True        0  [заказывать,  , штаны,       , и,  , лонгслив,...  \n",
       "\n",
       "[1776 rows x 5 columns]"
      ]
     },
     "execution_count": 28,
     "metadata": {},
     "output_type": "execute_result"
    }
   ],
   "source": [
    "df_lem['lemmas'] = lemmatized_texts\n",
    "df_lem"
   ]
  },
  {
   "cell_type": "code",
   "execution_count": 29,
   "metadata": {},
   "outputs": [],
   "source": [
    "clean_lemmas = []\n",
    "regex = re.compile(r'\\s+')\n",
    "\n",
    "for text in lemmatized_texts:\n",
    "    clean_lemmas.append([i for i in text if not regex.search(i)])\n",
    "\n",
    "df_lem['lemmas'] = clean_lemmas"
   ]
  },
  {
   "cell_type": "code",
   "execution_count": 30,
   "metadata": {},
   "outputs": [],
   "source": [
    "stemmer = SnowballStemmer(\"russian\", ignore_stopwords=True)\n",
    "stems = []\n",
    "\n",
    "for i in df_lem.lemmas:\n",
    "    row = []\n",
    "    for n in i:\n",
    "        row.append(stemmer.stem(n))\n",
    "    stems.append(row)    "
   ]
  },
  {
   "cell_type": "code",
   "execution_count": 31,
   "metadata": {},
   "outputs": [
    {
     "data": {
      "text/html": [
       "<div>\n",
       "<style scoped>\n",
       "    .dataframe tbody tr th:only-of-type {\n",
       "        vertical-align: middle;\n",
       "    }\n",
       "\n",
       "    .dataframe tbody tr th {\n",
       "        vertical-align: top;\n",
       "    }\n",
       "\n",
       "    .dataframe thead th {\n",
       "        text-align: right;\n",
       "    }\n",
       "</style>\n",
       "<table border=\"1\" class=\"dataframe\">\n",
       "  <thead>\n",
       "    <tr style=\"text-align: right;\">\n",
       "      <th></th>\n",
       "      <th>comment</th>\n",
       "      <th>date</th>\n",
       "      <th>image</th>\n",
       "      <th>is_fake</th>\n",
       "      <th>lemmas</th>\n",
       "      <th>stem</th>\n",
       "    </tr>\n",
       "  </thead>\n",
       "  <tbody>\n",
       "    <tr>\n",
       "      <th>0</th>\n",
       "      <td>сегодня   забирать   на   почта    качество   ...</td>\n",
       "      <td>25 ноя 2017 в 6:46</td>\n",
       "      <td>True</td>\n",
       "      <td>1</td>\n",
       "      <td>[сегодня, забирать, на, почта, качество, отлич...</td>\n",
       "      <td>[сегодн, забира, на, почт, качеств, отличн, уп...</td>\n",
       "    </tr>\n",
       "    <tr>\n",
       "      <th>1</th>\n",
       "      <td>вчера   получать    до   сей   пора   не   нар...</td>\n",
       "      <td>27 ноя 2017 в 16:20</td>\n",
       "      <td>True</td>\n",
       "      <td>1</td>\n",
       "      <td>[вчера, получать, до, сей, пора, не, нарадоват...</td>\n",
       "      <td>[вчер, получа, до, се, пор, не, нарадова, и, п...</td>\n",
       "    </tr>\n",
       "    <tr>\n",
       "      <th>2</th>\n",
       "      <td>спасибо   большой   все   отличный    очень   ...</td>\n",
       "      <td>28 ноя 2017 в 14:07</td>\n",
       "      <td>True</td>\n",
       "      <td>1</td>\n",
       "      <td>[спасибо, большой, все, отличный, очень, нрави...</td>\n",
       "      <td>[спасиб, больш, все, отличн, очен, нрав]</td>\n",
       "    </tr>\n",
       "  </tbody>\n",
       "</table>\n",
       "</div>"
      ],
      "text/plain": [
       "                                             comment                 date  \\\n",
       "0  сегодня   забирать   на   почта    качество   ...   25 ноя 2017 в 6:46   \n",
       "1  вчера   получать    до   сей   пора   не   нар...  27 ноя 2017 в 16:20   \n",
       "2  спасибо   большой   все   отличный    очень   ...  28 ноя 2017 в 14:07   \n",
       "\n",
       "   image  is_fake                                             lemmas  \\\n",
       "0   True        1  [сегодня, забирать, на, почта, качество, отлич...   \n",
       "1   True        1  [вчера, получать, до, сей, пора, не, нарадоват...   \n",
       "2   True        1  [спасибо, большой, все, отличный, очень, нрави...   \n",
       "\n",
       "                                                stem  \n",
       "0  [сегодн, забира, на, почт, качеств, отличн, уп...  \n",
       "1  [вчер, получа, до, се, пор, не, нарадова, и, п...  \n",
       "2           [спасиб, больш, все, отличн, очен, нрав]  "
      ]
     },
     "execution_count": 31,
     "metadata": {},
     "output_type": "execute_result"
    }
   ],
   "source": [
    "df_lem['stem'] = stems\n",
    "df_lem.head(3)"
   ]
  },
  {
   "cell_type": "code",
   "execution_count": 32,
   "metadata": {},
   "outputs": [
    {
     "data": {
      "text/plain": [
       "2701"
      ]
     },
     "execution_count": 32,
     "metadata": {},
     "output_type": "execute_result"
    }
   ],
   "source": [
    "vocabulary_stem = list(itertools.chain.from_iterable([i for i in df_lem['stem']]))\n",
    "len(set(vocabulary_stem))"
   ]
  },
  {
   "cell_type": "code",
   "execution_count": 33,
   "metadata": {
    "scrolled": true
   },
   "outputs": [
    {
     "data": {
      "image/png": "[encoded data removed]",
      "text/plain": [
       "<Figure size 432x288 with 1 Axes>"
      ]
     },
     "metadata": {
      "needs_background": "light"
     },
     "output_type": "display_data"
    }
   ],
   "source": [
    "plt.hist(numWords, 100)\n",
    "plt.xlabel('Review Length in Words')\n",
    "plt.ylabel('Count')\n",
    "plt.show()"
   ]
  },
  {
   "cell_type": "code",
   "execution_count": 35,
   "metadata": {},
   "outputs": [],
   "source": [
    "df_lem.to_csv('out_bow.csv', encoding='utf-8-sig')"
   ]
  },
  {
   "cell_type": "markdown",
   "metadata": {},
   "source": [
    "# Мешок слов"
   ]
  },
  {
   "cell_type": "code",
   "execution_count": 40,
   "metadata": {},
   "outputs": [],
   "source": [
    "bagOfPositive = list(itertools.chain.from_iterable([i for i in df_lem.lemmas[df.is_fake == 1]])) \n",
    "bagOfNegative = list(itertools.chain.from_iterable([i for i in df_lem.lemmas[df.is_fake == 0]]))\n",
    "bagOfAll = bagOfPositive+bagOfNegative"
   ]
  },
  {
   "cell_type": "code",
   "execution_count": 41,
   "metadata": {},
   "outputs": [],
   "source": [
    "from nltk.corpus import stopwords\n",
    "stop_words = set(stopwords.words(\"russian\"))\n",
    "\n",
    "# Формируем для каждого документа словарь в котором ключ - это слово, а значение его частота в документе\n",
    "mapOfWordsPositive = dict.fromkeys(vocabulary, 0)\n",
    "mapOfWordsNegative = dict.fromkeys(vocabulary, 0)\n",
    "mapOfAllWords = dict.fromkeys(vocabulary, 0)\n",
    "\n",
    "for word in bagOfPositive:\n",
    "    if word not in stop_words:\n",
    "        mapOfWordsPositive[word] += 1\n",
    "for word in bagOfNegative:\n",
    "    if word not in stop_words:\n",
    "        mapOfWordsNegative[word] += 1\n",
    "for word in bagOfAll:\n",
    "    if word not in stop_words:\n",
    "        mapOfAllWords[word] += 1"
   ]
  },
  {
   "cell_type": "code",
   "execution_count": 42,
   "metadata": {},
   "outputs": [],
   "source": [
    "from wordcloud import WordCloud\n",
    "\n",
    "def word_cloud(list, file):\n",
    "    cloud = WordCloud(background_color=\"white\", max_words=100)\n",
    "    cloud.generate(' '.join(list))\n",
    "    plt.imshow(cloud, interpolation='bilinear')\n",
    "    plt.axis(\"off\")\n",
    "    plt.show()\n",
    "    cloud.to_file(file)"
   ]
  },
  {
   "cell_type": "code",
   "execution_count": 43,
   "metadata": {},
   "outputs": [],
   "source": [
    "def maj_words(d):\n",
    "    big_pos = []\n",
    "    counter = 0\n",
    "    for w in sorted(d, key=d.get, reverse=True)[:100]:\n",
    "        big_pos.append(w)\n",
    "        if counter < 20:\n",
    "            print(w, d[w])\n",
    "            counter +=  1\n",
    "    return big_pos"
   ]
  },
  {
   "cell_type": "code",
   "execution_count": 44,
   "metadata": {},
   "outputs": [
    {
     "name": "stdout",
     "output_type": "stream",
     "text": [
      "заказывать 930\n",
      "качество 688\n",
      "спасибо 615\n",
      "приходить 530\n",
      "виктор 416\n",
      "очень 406\n",
      "размер 349\n",
      "весь 270\n",
      "день 255\n",
      "доставка 215\n",
      "хороший 214\n",
      "носок 214\n",
      "магазин 211\n",
      "подарок 200\n",
      "кроссовок 195\n",
      "отличный 185\n",
      "это 184\n",
      "довольный 183\n",
      "идти 174\n",
      "продавец 165\n"
     ]
    }
   ],
   "source": [
    "mpn = maj_words(mapOfWordsNegative)"
   ]
  },
  {
   "cell_type": "code",
   "execution_count": 45,
   "metadata": {},
   "outputs": [
    {
     "data": {
      "image/png": "[encoded data removed]",
      "text/plain": [
       "<Figure size 432x288 with 1 Axes>"
      ]
     },
     "metadata": {
      "needs_background": "light"
     },
     "output_type": "display_data"
    }
   ],
   "source": [
    "word_cloud(mpn, 'mpn.jpg')"
   ]
  },
  {
   "cell_type": "code",
   "execution_count": 46,
   "metadata": {},
   "outputs": [
    {
     "name": "stdout",
     "output_type": "stream",
     "text": [
      "спасибо 279\n",
      "очень 209\n",
      "качество 162\n",
      "заказывать 158\n",
      "хороший 102\n",
      "получать 98\n",
      "довольный 95\n",
      "большой 90\n",
      "доставка 86\n",
      "размер 86\n",
      "платье 79\n",
      "приходить 78\n",
      "заказ 78\n",
      "весь 68\n",
      "магазин 61\n",
      "подходить 55\n",
      "отличный 53\n",
      "свой 48\n",
      "быстро 47\n",
      "быстрый 47\n"
     ]
    }
   ],
   "source": [
    "mpp = maj_words(mapOfWordsPositive)"
   ]
  },
  {
   "cell_type": "code",
   "execution_count": 47,
   "metadata": {},
   "outputs": [
    {
     "data": {
      "text/plain": [
       "56"
      ]
     },
     "execution_count": 47,
     "metadata": {},
     "output_type": "execute_result"
    }
   ],
   "source": [
    "common_items = list((Counter(mpp) & Counter(mpn)).elements())\n",
    "len(common_items)"
   ]
  },
  {
   "cell_type": "code",
   "execution_count": 48,
   "metadata": {},
   "outputs": [
    {
     "data": {
      "image/png": "[encoded data removed]",
      "text/plain": [
       "<Figure size 432x288 with 1 Axes>"
      ]
     },
     "metadata": {
      "needs_background": "light"
     },
     "output_type": "display_data"
    }
   ],
   "source": [
    "word_cloud(mpp, 'mpp.jpg')"
   ]
  },
  {
   "cell_type": "code",
   "execution_count": 49,
   "metadata": {},
   "outputs": [
    {
     "name": "stdout",
     "output_type": "stream",
     "text": [
      "заказывать 1088\n",
      "спасибо 894\n",
      "качество 850\n",
      "очень 615\n",
      "приходить 608\n",
      "размер 435\n",
      "виктор 416\n",
      "весь 338\n",
      "хороший 316\n",
      "доставка 301\n",
      "день 299\n",
      "довольный 278\n",
      "магазин 272\n",
      "отличный 238\n",
      "большой 232\n",
      "это 221\n",
      "носок 216\n",
      "кроссовок 213\n",
      "подходить 212\n",
      "подарок 209\n"
     ]
    }
   ],
   "source": [
    "mpa = maj_words(mapOfAllWords)"
   ]
  },
  {
   "cell_type": "code",
   "execution_count": 50,
   "metadata": {},
   "outputs": [
    {
     "data": {
      "image/png": "[encoded data removed]",
      "text/plain": [
       "<Figure size 432x288 with 1 Axes>"
      ]
     },
     "metadata": {
      "needs_background": "light"
     },
     "output_type": "display_data"
    }
   ],
   "source": [
    "word_cloud(mpa, 'maj.jpg')"
   ]
  },
  {
   "cell_type": "code",
   "execution_count": 51,
   "metadata": {},
   "outputs": [],
   "source": [
    "word_vectorizer = TfidfVectorizer(max_features=250000,  \n",
    "                                  stop_words=stop_words,\n",
    "                                  analyzer='word',\n",
    "                                  ngram_range=(1,3))"
   ]
  },
  {
   "cell_type": "code",
   "execution_count": 52,
   "metadata": {},
   "outputs": [
    {
     "data": {
      "text/plain": [
       "['игрушка',\n",
       " 'премия',\n",
       " 'забота',\n",
       " 'принимать',\n",
       " 'моментальный',\n",
       " 'жилеточка',\n",
       " 'прикреплять',\n",
       " 'прикольно',\n",
       " 'прийшов',\n",
       " 'приемлемый']"
      ]
     },
     "execution_count": 52,
     "metadata": {},
     "output_type": "execute_result"
    }
   ],
   "source": [
    "TFIDF = word_vectorizer.fit_transform(bagOfPositive)\n",
    "indices = np.argsort(word_vectorizer.idf_)[::-1]\n",
    "features = word_vectorizer.get_feature_names()\n",
    "top_n = 10\n",
    "top_features = [features[i] for i in indices[:top_n]]\n",
    "top_features"
   ]
  },
  {
   "cell_type": "code",
   "execution_count": 53,
   "metadata": {},
   "outputs": [
    {
     "data": {
      "text/plain": [
       "['ясно',\n",
       " 'наугад',\n",
       " 'налезать',\n",
       " 'налички',\n",
       " 'наполнитель',\n",
       " 'напрасно',\n",
       " 'напрасный',\n",
       " 'нарадоваться',\n",
       " 'наски',\n",
       " 'наставать']"
      ]
     },
     "execution_count": 53,
     "metadata": {},
     "output_type": "execute_result"
    }
   ],
   "source": [
    "TFIDF = word_vectorizer.fit_transform(bagOfNegative)\n",
    "indices = np.argsort(word_vectorizer.idf_)[::-1]\n",
    "features = word_vectorizer.get_feature_names()\n",
    "top_n = 10\n",
    "top_features = [features[i] for i in indices[:top_n]]\n",
    "top_features"
   ]
  },
  {
   "cell_type": "code",
   "execution_count": 54,
   "metadata": {},
   "outputs": [
    {
     "data": {
      "text/plain": [
       "['ясно',\n",
       " 'помешать',\n",
       " 'помогална',\n",
       " 'идиотский',\n",
       " 'помогсделать',\n",
       " 'помочь',\n",
       " 'помощья',\n",
       " 'идентичный',\n",
       " 'идельный',\n",
       " 'идеальнона']"
      ]
     },
     "execution_count": 54,
     "metadata": {},
     "output_type": "execute_result"
    }
   ],
   "source": [
    "TFIDF = word_vectorizer.fit_transform(bagOfAll)\n",
    "indices = np.argsort(word_vectorizer.idf_)[::-1]\n",
    "features = word_vectorizer.get_feature_names()\n",
    "top_n = 10\n",
    "top_features = [features[i] for i in indices[:top_n]]\n",
    "top_features"
   ]
  },
  {
   "cell_type": "code",
   "execution_count": 66,
   "metadata": {},
   "outputs": [],
   "source": [
    "df_end = df_lem.stem\n",
    "\n",
    "stem_str = []\n",
    "\n",
    "for i in df_end:\n",
    "    stem_str.append(' '.join(i)  )"
   ]
  },
  {
   "cell_type": "code",
   "execution_count": 71,
   "metadata": {},
   "outputs": [],
   "source": [
    "df_end =  df_lem.copy()\n",
    "df_end['lem_str'] = stem_str"
   ]
  },
  {
   "cell_type": "code",
   "execution_count": 72,
   "metadata": {},
   "outputs": [],
   "source": [
    "x = df_end['lem_str']\n",
    "y = df_lem.is_fake\n",
    "\n",
    "from sklearn.model_selection import train_test_split\n",
    "x_train,x_test,y_train,y_test=train_test_split(x,y,test_size=0.20,random_state=0)"
   ]
  },
  {
   "cell_type": "code",
   "execution_count": 73,
   "metadata": {},
   "outputs": [],
   "source": [
    "train_words = word_vectorizer.transform(x_train)\n",
    "test_words = word_vectorizer.transform(x_test)"
   ]
  },
  {
   "cell_type": "markdown",
   "metadata": {},
   "source": [
    "# Logistic regression"
   ]
  },
  {
   "cell_type": "code",
   "execution_count": 135,
   "metadata": {},
   "outputs": [],
   "source": [
    "from sklearn.metrics import roc_auc_score"
   ]
  },
  {
   "cell_type": "markdown",
   "metadata": {},
   "source": [
    "Лучшие параметры найденные через ParameterGrid:"
   ]
  },
  {
   "cell_type": "raw",
   "metadata": {},
   "source": [
    "Best Params:  {'C': 1, 'class_weight': {1: 0.7, 0: 0.3}, 'penalty': 'l2', 'solver': 'liblinear'}"
   ]
  },
  {
   "cell_type": "code",
   "execution_count": 136,
   "metadata": {},
   "outputs": [],
   "source": [
    "logreg = LogisticRegression(C=1, class_weight = {1: 0.7, 0: 0.3}, solver='liblinear', random_state=21)\n",
    "logreg.fit(train_words, y_train)\n",
    "pred = logreg.predict(test_words)"
   ]
  },
  {
   "cell_type": "code",
   "execution_count": 137,
   "metadata": {},
   "outputs": [
    {
     "name": "stdout",
     "output_type": "stream",
     "text": [
      "0.857\n",
      "[[236  30]\n",
      " [ 21  69]]\n",
      "0.73\n",
      "0.827\n"
     ]
    }
   ],
   "source": [
    "print(round(accuracy_score(y_test, pred), 3))\n",
    "print(confusion_matrix(y_test, pred))\n",
    "print(round(f1_score(y_test, pred), 3))\n",
    "print(round(roc_auc_score(y_test, pred), 3))"
   ]
  },
  {
   "cell_type": "markdown",
   "metadata": {},
   "source": [
    "# Gaussian Naive Bayes"
   ]
  },
  {
   "cell_type": "code",
   "execution_count": 138,
   "metadata": {},
   "outputs": [],
   "source": [
    "clf = GaussianNB()\n",
    "clf.fit(train_words.toarray(), y_train)\n",
    "pred = clf.predict(test_words.toarray())"
   ]
  },
  {
   "cell_type": "code",
   "execution_count": 139,
   "metadata": {},
   "outputs": [
    {
     "name": "stdout",
     "output_type": "stream",
     "text": [
      "0.579\n",
      "[[118 148]\n",
      " [  2  88]]\n",
      "0.54\n",
      "0.711\n"
     ]
    }
   ],
   "source": [
    "print(round(accuracy_score(y_test, pred), 3))\n",
    "print(confusion_matrix(y_test, pred))\n",
    "print(round(f1_score(y_test, pred), 3))\n",
    "print(round(roc_auc_score(y_test, pred), 3))"
   ]
  },
  {
   "cell_type": "markdown",
   "metadata": {},
   "source": [
    "# Multinomial Naive Bayes"
   ]
  },
  {
   "cell_type": "code",
   "execution_count": 154,
   "metadata": {},
   "outputs": [],
   "source": [
    "from sklearn.naive_bayes import MultinomialNB"
   ]
  },
  {
   "cell_type": "code",
   "execution_count": 155,
   "metadata": {},
   "outputs": [],
   "source": [
    "mnb = MultinomialNB()\n",
    "mnb .fit(train_words.toarray(), y_train)\n",
    "pred = mnb .predict(test_words.toarray())"
   ]
  },
  {
   "cell_type": "code",
   "execution_count": 156,
   "metadata": {},
   "outputs": [
    {
     "name": "stdout",
     "output_type": "stream",
     "text": [
      "0.792\n",
      "[[266   0]\n",
      " [ 74  16]]\n",
      "0.302\n",
      "0.589\n"
     ]
    }
   ],
   "source": [
    "print(round(accuracy_score(y_test, pred), 3))\n",
    "print(confusion_matrix(y_test, pred))\n",
    "print(round(f1_score(y_test, pred), 3))\n",
    "print(round(roc_auc_score(y_test, pred), 3))"
   ]
  },
  {
   "cell_type": "markdown",
   "metadata": {},
   "source": [
    "# k-nearest neighbors"
   ]
  },
  {
   "cell_type": "markdown",
   "metadata": {},
   "source": [
    "Лучшие параметры найденные через ParameterGrid:"
   ]
  },
  {
   "cell_type": "raw",
   "metadata": {},
   "source": [
    "Best Params:  {'algorithm': 'auto', 'n_neighbors': 5, 'p': 2, 'weights': 'distance'}"
   ]
  },
  {
   "cell_type": "code",
   "execution_count": 140,
   "metadata": {},
   "outputs": [],
   "source": [
    "knn = KNeighborsClassifier(weights='distance')\n",
    "knn.fit(train_words.toarray(),y_train)\n",
    "pred = knn.predict(test_words.toarray())"
   ]
  },
  {
   "cell_type": "code",
   "execution_count": 141,
   "metadata": {},
   "outputs": [
    {
     "name": "stdout",
     "output_type": "stream",
     "text": [
      "0.82\n",
      "[[253  13]\n",
      " [ 51  39]]\n",
      "0.549\n",
      "0.692\n"
     ]
    }
   ],
   "source": [
    "import sklearn\n",
    "from sklearn.metrics import log_loss\n",
    "\n",
    "print(round(accuracy_score(y_test, pred), 3))\n",
    "print(confusion_matrix(y_test, pred))\n",
    "print(round(f1_score(y_test, pred), 3))\n",
    "print(round(roc_auc_score(y_test, pred), 3))"
   ]
  },
  {
   "cell_type": "markdown",
   "metadata": {},
   "source": [
    "# Random Forest"
   ]
  },
  {
   "cell_type": "code",
   "execution_count": 142,
   "metadata": {},
   "outputs": [
    {
     "name": "stderr",
     "output_type": "stream",
     "text": [
      "C:\\Users\\Tuylenen\\Anaconda3\\lib\\site-packages\\sklearn\\ensemble\\forest.py:245: FutureWarning: The default value of n_estimators will change from 10 in version 0.20 to 100 in 0.22.\n",
      "  \"10 in version 0.20 to 100 in 0.22.\", FutureWarning)\n"
     ]
    }
   ],
   "source": [
    "rfclf = RandomForestClassifier(criterion='entropy', max_depth = 100)\n",
    "rfclf.fit(train_words,y_train)\n",
    "pred = rfclf.predict(test_words)"
   ]
  },
  {
   "cell_type": "code",
   "execution_count": 143,
   "metadata": {},
   "outputs": [
    {
     "name": "stdout",
     "output_type": "stream",
     "text": [
      "0.86\n",
      "[[256  10]\n",
      " [ 40  50]]\n",
      "0.667\n",
      "0.759\n"
     ]
    }
   ],
   "source": [
    "print(round(accuracy_score(y_test, pred), 3))\n",
    "print(confusion_matrix(y_test, pred))\n",
    "print(round(f1_score(y_test, pred), 3))\n",
    "print(round(roc_auc_score(y_test, pred), 3))"
   ]
  },
  {
   "cell_type": "markdown",
   "metadata": {},
   "source": [
    "# Gradient Boosting"
   ]
  },
  {
   "cell_type": "code",
   "execution_count": 144,
   "metadata": {},
   "outputs": [],
   "source": [
    "gb = GradientBoostingClassifier(random_state=42)\n",
    "gb.fit(train_words.toarray(), y_train)\n",
    "pred = gb.predict(test_words.toarray())"
   ]
  },
  {
   "cell_type": "code",
   "execution_count": 145,
   "metadata": {
    "scrolled": true
   },
   "outputs": [
    {
     "name": "stdout",
     "output_type": "stream",
     "text": [
      "0.848\n",
      "[[259   7]\n",
      " [ 47  43]]\n",
      "0.614\n",
      "0.726\n"
     ]
    }
   ],
   "source": [
    "print(round(accuracy_score(y_test, pred), 3))\n",
    "print(confusion_matrix(y_test, pred))\n",
    "print(round(f1_score(y_test, pred), 3))\n",
    "print(round(roc_auc_score(y_test, pred), 3))"
   ]
  },
  {
   "cell_type": "markdown",
   "metadata": {},
   "source": [
    "# Метод опорных векторов"
   ]
  },
  {
   "cell_type": "code",
   "execution_count": 148,
   "metadata": {},
   "outputs": [],
   "source": [
    "from sklearn.svm import SVC\n",
    "from sklearn.pipeline import make_pipeline\n",
    "from sklearn.preprocessing import StandardScaler"
   ]
  },
  {
   "cell_type": "code",
   "execution_count": 149,
   "metadata": {},
   "outputs": [],
   "source": [
    "SVC = make_pipeline(StandardScaler(), SVC(gamma='auto'))\n",
    "SVC.fit(train_words.toarray(), y_train)\n",
    "pred = xgboost.predict(test_words.toarray())"
   ]
  },
  {
   "cell_type": "code",
   "execution_count": 150,
   "metadata": {},
   "outputs": [
    {
     "name": "stdout",
     "output_type": "stream",
     "text": [
      "0.829\n",
      "[[248  18]\n",
      " [ 43  47]]\n",
      "0.606\n",
      "0.727\n"
     ]
    }
   ],
   "source": [
    "print(round(accuracy_score(y_test, pred), 3))\n",
    "print(confusion_matrix(y_test, pred))\n",
    "print(round(f1_score(y_test, pred), 3))\n",
    "print(round(roc_auc_score(y_test, pred), 3))"
   ]
  },
  {
   "cell_type": "code",
   "execution_count": null,
   "metadata": {},
   "outputs": [],
   "source": []
  },
  {
   "cell_type": "markdown",
   "metadata": {},
   "source": [
    "<img src=\"./cm.jpeg\" width=\"300\">"
   ]
  },
  {
   "cell_type": "code",
   "execution_count": null,
   "metadata": {},
   "outputs": [],
   "source": []
  },
  {
   "cell_type": "code",
   "execution_count": null,
   "metadata": {},
   "outputs": [],
   "source": []
  }
 ],
 "metadata": {
  "kernelspec": {
   "display_name": "Python 3",
   "language": "python",
   "name": "python3"
  },
  "language_info": {
   "codemirror_mode": {
    "name": "ipython",
    "version": 3
   },
   "file_extension": ".py",
   "mimetype": "text/x-python",
   "name": "python",
   "nbconvert_exporter": "python",
   "pygments_lexer": "ipython3",
   "version": "3.7.3"
  }
 },
 "nbformat": 4,
 "nbformat_minor": 2
}
