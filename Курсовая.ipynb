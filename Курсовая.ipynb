{
 "cells": [
  {
   "cell_type": "code",
   "execution_count": 1,
   "metadata": {},
   "outputs": [],
   "source": [
    "import os\n",
    "import re\n",
    "import string\n",
    "\n",
    "import numpy as np\n",
    "import pandas as pd\n",
    "import matplotlib.pyplot as plt\n",
    "import nltk\n",
    "\n",
    "import itertools\n",
    "from collections import Counter\n",
    "from nltk.corpus import stopwords\n",
    "from pymystem3 import Mystem\n",
    "from nltk.stem.snowball import SnowballStemmer\n",
    "\n",
    "from sklearn.feature_extraction.text import TfidfVectorizer\n",
    "\n",
    "from sklearn.model_selection import GridSearchCV\n",
    "\n",
    "from sklearn.linear_model import LogisticRegression\n",
    "from sklearn.ensemble import GradientBoostingClassifier\n",
    "from sklearn.naive_bayes import BernoulliNB\n",
    "from sklearn.ensemble import RandomForestClassifier\n",
    "from sklearn.neighbors import KNeighborsClassifier\n",
    "from sklearn.pipeline import make_pipeline\n",
    "from sklearn.preprocessing import StandardScaler\n",
    "from sklearn.svm import SVC\n",
    "\n",
    "from sklearn.metrics import accuracy_score\n",
    "from sklearn.metrics import log_loss\n",
    "from sklearn.metrics import f1_score\n",
    "from sklearn.metrics import roc_auc_score\n",
    "from sklearn.metrics import confusion_matrix\n",
    "\n",
    "import warnings\n",
    "warnings.filterwarnings('ignore')"
   ]
  },
  {
   "cell_type": "markdown",
   "metadata": {},
   "source": [
    "## Получение данных"
   ]
  },
  {
   "cell_type": "code",
   "execution_count": 2,
   "metadata": {},
   "outputs": [],
   "source": [
    "# считываем данные с сохраненных веб-страниц\n",
    "\n",
    "def reading_group(html, label):\n",
    "\n",
    "    with open(html) as f:\n",
    "        page = f.read()\n",
    "\n",
    "    author, date, text = [], [], []\n",
    "\n",
    "    comments = re.findall(r'<div class=\"bp_post clear_fix \"((.|\\n)*?)Показать список оценивших', page)\n",
    "    for comment in comments:\n",
    "        comment = comment[0]\n",
    "        author.append(re.search(r'<a class=\"bp_author\"(.*)\">(.*)</a>', comment)[2])\n",
    "        date.append(re.search(r'<a class=\"bp_date\"(.*)\">(.*)</a>', comment)[2])\n",
    "        try:\n",
    "            text.append(re.search(r'<div class=\"bp_text\">(.*)</div>', comment)[1])\n",
    "        except:\n",
    "            text.append('')\n",
    "\n",
    "    t_c, h_c, p_c = [], [], []\n",
    "\n",
    "    for comment in text:\n",
    "        href = re.findall(r\"^<a href(.*)mem_link(.*)(.*)</a>\", comment)\n",
    "        \n",
    "        ret = 'return showPhoto' in comment\n",
    "        p_c.append(ret)\n",
    "        \n",
    "        if href:        \n",
    "            h_lst = []\n",
    "            for n in href:\n",
    "                href = re.findall(r'Board.mentionOver\\(this\\)\">(.*)', n[1])\n",
    "                h_lst.append(href)\n",
    "            comment = \"{}, {}\".format(','.join(h_lst[0]), comment.split(\"</a>,\")[1])\n",
    "            h_c.append(h_lst[0])\n",
    "        else:\n",
    "            h_c.append(\"na\")\n",
    "        t_c.append(re.sub('<br><br>', '', re.sub('</?div(.*)>', '', comment)))\n",
    "\n",
    "    comments = pd.DataFrame(list(zip(author, date, t_c, h_c, p_c)),\n",
    "                            columns=['author', 'date', 'comment', 'mention', 'image'])\n",
    "    \n",
    "    if label:\n",
    "        comments['is_fake'] = 0\n",
    "    else:\n",
    "        comments['is_fake'] = 1\n",
    "    \n",
    "    return comments"
   ]
  },
  {
   "cell_type": "code",
   "execution_count": 3,
   "metadata": {},
   "outputs": [],
   "source": [
    "# создаем датафрейм с данными каждой из подпапок\n",
    "\n",
    "def create_df(directory, label):\n",
    "    df = pd.DataFrame()\n",
    "    path = './html/' + directory\n",
    "    for filename in os.listdir(path):\n",
    "        if filename.endswith(\".html\"):\n",
    "            comments = reading_group(path + '/' + filename, label)\n",
    "            df = pd.concat([df, comments], sort=True, ignore_index=True)\n",
    "        else:\n",
    "            continue\n",
    "    return df"
   ]
  },
  {
   "cell_type": "markdown",
   "metadata": {},
   "source": [
    "**author** - the user that posted a comment<br>\n",
    "**comment** - text of the review<br>\n",
    "**date** - when a comment was created<br>\n",
    "**image** - True (1) if photos are attached, false otherwise<br>\n",
    "**mention** - True (1) if there is a mention at the start of the message of another user, false otherwise<br>\n",
    "**is_fake** - target label, True (1) if a comment is fake, false otherwise"
   ]
  },
  {
   "cell_type": "code",
   "execution_count": 4,
   "metadata": {},
   "outputs": [
    {
     "data": {
      "text/html": [
       "<div>\n",
       "<style scoped>\n",
       "    .dataframe tbody tr th:only-of-type {\n",
       "        vertical-align: middle;\n",
       "    }\n",
       "\n",
       "    .dataframe tbody tr th {\n",
       "        vertical-align: top;\n",
       "    }\n",
       "\n",
       "    .dataframe thead th {\n",
       "        text-align: right;\n",
       "    }\n",
       "</style>\n",
       "<table border=\"1\" class=\"dataframe\">\n",
       "  <thead>\n",
       "    <tr style=\"text-align: right;\">\n",
       "      <th></th>\n",
       "      <th>author</th>\n",
       "      <th>comment</th>\n",
       "      <th>date</th>\n",
       "      <th>image</th>\n",
       "      <th>is_fake</th>\n",
       "      <th>mention</th>\n",
       "    </tr>\n",
       "  </thead>\n",
       "  <tbody>\n",
       "    <tr>\n",
       "      <th>2067</th>\n",
       "      <td>Евгений Беляев</td>\n",
       "      <td>Заказывал Yezzy bost v2, шли долго из за каран...</td>\n",
       "      <td>28 апр 2020 в 19:09</td>\n",
       "      <td>True</td>\n",
       "      <td>0</td>\n",
       "      <td>na</td>\n",
       "    </tr>\n",
       "    <tr>\n",
       "      <th>2068</th>\n",
       "      <td>Андрей Ярилов</td>\n",
       "      <td>Доброго времени суток!) Заказал Yeezy 350 v2 y...</td>\n",
       "      <td>28 апр 2020 в 20:55</td>\n",
       "      <td>False</td>\n",
       "      <td>0</td>\n",
       "      <td>na</td>\n",
       "    </tr>\n",
       "    <tr>\n",
       "      <th>2069</th>\n",
       "      <td>Андрей Белый</td>\n",
       "      <td>Заказывал вчера, доставили сегодня. Спасибо бо...</td>\n",
       "      <td>29 апр 2020 в 22:35</td>\n",
       "      <td>True</td>\n",
       "      <td>0</td>\n",
       "      <td>na</td>\n",
       "    </tr>\n",
       "    <tr>\n",
       "      <th>2070</th>\n",
       "      <td>Екатерина Самылина</td>\n",
       "      <td>Качественная сумка,обязательно буду заказывать...</td>\n",
       "      <td>вчера в 14:56</td>\n",
       "      <td>True</td>\n",
       "      <td>0</td>\n",
       "      <td>na</td>\n",
       "    </tr>\n",
       "    <tr>\n",
       "      <th>2071</th>\n",
       "      <td>Никита Добрынин</td>\n",
       "      <td>Заказывал штаны Aape и лонгслив Heron Preston,...</td>\n",
       "      <td>вчера в 15:00</td>\n",
       "      <td>True</td>\n",
       "      <td>0</td>\n",
       "      <td>na</td>\n",
       "    </tr>\n",
       "  </tbody>\n",
       "</table>\n",
       "</div>"
      ],
      "text/plain": [
       "                  author                                            comment  \\\n",
       "2067      Евгений Беляев  Заказывал Yezzy bost v2, шли долго из за каран...   \n",
       "2068       Андрей Ярилов  Доброго времени суток!) Заказал Yeezy 350 v2 y...   \n",
       "2069        Андрей Белый  Заказывал вчера, доставили сегодня. Спасибо бо...   \n",
       "2070  Екатерина Самылина  Качественная сумка,обязательно буду заказывать...   \n",
       "2071     Никита Добрынин  Заказывал штаны Aape и лонгслив Heron Preston,...   \n",
       "\n",
       "                     date  image  is_fake mention  \n",
       "2067  28 апр 2020 в 19:09   True        0      na  \n",
       "2068  28 апр 2020 в 20:55  False        0      na  \n",
       "2069  29 апр 2020 в 22:35   True        0      na  \n",
       "2070        вчера в 14:56   True        0      na  \n",
       "2071        вчера в 15:00   True        0      na  "
      ]
     },
     "execution_count": 4,
     "metadata": {},
     "output_type": "execute_result"
    }
   ],
   "source": [
    "# подпапка с реальными отзывами\n",
    "\n",
    "df_true = create_df('vk/true', True)\n",
    "df_true.tail()"
   ]
  },
  {
   "cell_type": "code",
   "execution_count": 5,
   "metadata": {},
   "outputs": [
    {
     "data": {
      "text/html": [
       "<div>\n",
       "<style scoped>\n",
       "    .dataframe tbody tr th:only-of-type {\n",
       "        vertical-align: middle;\n",
       "    }\n",
       "\n",
       "    .dataframe tbody tr th {\n",
       "        vertical-align: top;\n",
       "    }\n",
       "\n",
       "    .dataframe thead th {\n",
       "        text-align: right;\n",
       "    }\n",
       "</style>\n",
       "<table border=\"1\" class=\"dataframe\">\n",
       "  <thead>\n",
       "    <tr style=\"text-align: right;\">\n",
       "      <th></th>\n",
       "      <th>author</th>\n",
       "      <th>comment</th>\n",
       "      <th>date</th>\n",
       "      <th>image</th>\n",
       "      <th>is_fake</th>\n",
       "      <th>mention</th>\n",
       "    </tr>\n",
       "  </thead>\n",
       "  <tbody>\n",
       "    <tr>\n",
       "      <th>617</th>\n",
       "      <td>Вика Сергеева</td>\n",
       "      <td>Получила свои вещи, бомбер и платье безумно ра...</td>\n",
       "      <td>30 апр 2018 в 18:34</td>\n",
       "      <td>False</td>\n",
       "      <td>1</td>\n",
       "      <td>na</td>\n",
       "    </tr>\n",
       "    <tr>\n",
       "      <th>618</th>\n",
       "      <td>Олександра Аравіцька</td>\n",
       "      <td>Спасибо!!!!Очень быстро и никаких проблем, даж...</td>\n",
       "      <td>1 мая 2018 в 8:32</td>\n",
       "      <td>False</td>\n",
       "      <td>1</td>\n",
       "      <td>na</td>\n",
       "    </tr>\n",
       "    <tr>\n",
       "      <th>619</th>\n",
       "      <td>Олеся Фирсова</td>\n",
       "      <td>Спасибо большое , получила платьице, цвет как ...</td>\n",
       "      <td>7 мая 2018 в 12:55</td>\n",
       "      <td>True</td>\n",
       "      <td>1</td>\n",
       "      <td>na</td>\n",
       "    </tr>\n",
       "    <tr>\n",
       "      <th>620</th>\n",
       "      <td>Анастасия Нестерова</td>\n",
       "      <td>Сегодня доставили мне мои шлёпки и джинсы. К к...</td>\n",
       "      <td>8 мая 2018 в 15:06</td>\n",
       "      <td>False</td>\n",
       "      <td>1</td>\n",
       "      <td>na</td>\n",
       "    </tr>\n",
       "    <tr>\n",
       "      <th>621</th>\n",
       "      <td>Наталья Белоусова</td>\n",
       "      <td>Такой шикарный магазин и так мало отзывов ,это...</td>\n",
       "      <td>сегодня в 14:37</td>\n",
       "      <td>False</td>\n",
       "      <td>1</td>\n",
       "      <td>na</td>\n",
       "    </tr>\n",
       "  </tbody>\n",
       "</table>\n",
       "</div>"
      ],
      "text/plain": [
       "                   author                                            comment  \\\n",
       "617         Вика Сергеева  Получила свои вещи, бомбер и платье безумно ра...   \n",
       "618  Олександра Аравіцька  Спасибо!!!!Очень быстро и никаких проблем, даж...   \n",
       "619         Олеся Фирсова  Спасибо большое , получила платьице, цвет как ...   \n",
       "620   Анастасия Нестерова  Сегодня доставили мне мои шлёпки и джинсы. К к...   \n",
       "621     Наталья Белоусова  Такой шикарный магазин и так мало отзывов ,это...   \n",
       "\n",
       "                    date  image  is_fake mention  \n",
       "617  30 апр 2018 в 18:34  False        1      na  \n",
       "618    1 мая 2018 в 8:32  False        1      na  \n",
       "619   7 мая 2018 в 12:55   True        1      na  \n",
       "620   8 мая 2018 в 15:06  False        1      na  \n",
       "621      сегодня в 14:37  False        1      na  "
      ]
     },
     "execution_count": 5,
     "metadata": {},
     "output_type": "execute_result"
    }
   ],
   "source": [
    "# подпапка с фальшивыми отзывами\n",
    "\n",
    "df_false = create_df('vk/false', False)\n",
    "df_false.tail()"
   ]
  },
  {
   "cell_type": "code",
   "execution_count": 6,
   "metadata": {},
   "outputs": [
    {
     "data": {
      "text/html": [
       "<div>\n",
       "<style scoped>\n",
       "    .dataframe tbody tr th:only-of-type {\n",
       "        vertical-align: middle;\n",
       "    }\n",
       "\n",
       "    .dataframe tbody tr th {\n",
       "        vertical-align: top;\n",
       "    }\n",
       "\n",
       "    .dataframe thead th {\n",
       "        text-align: right;\n",
       "    }\n",
       "</style>\n",
       "<table border=\"1\" class=\"dataframe\">\n",
       "  <thead>\n",
       "    <tr style=\"text-align: right;\">\n",
       "      <th></th>\n",
       "      <th>author</th>\n",
       "      <th>comment</th>\n",
       "      <th>date</th>\n",
       "      <th>image</th>\n",
       "      <th>is_fake</th>\n",
       "      <th>mention</th>\n",
       "    </tr>\n",
       "  </thead>\n",
       "  <tbody>\n",
       "    <tr>\n",
       "      <th>0</th>\n",
       "      <td>Магазин кроссовок / Sniiiky</td>\n",
       "      <td>Тема только для отзывов! За отзыв с фото вы по...</td>\n",
       "      <td>21 сен 2017 в 2:16</td>\n",
       "      <td>False</td>\n",
       "      <td>1</td>\n",
       "      <td>na</td>\n",
       "    </tr>\n",
       "    <tr>\n",
       "      <th>1</th>\n",
       "      <td>Анна Токарева</td>\n",
       "      <td>Сегодня забрала на почте! Качество отличное, у...</td>\n",
       "      <td>25 ноя 2017 в 6:46</td>\n",
       "      <td>True</td>\n",
       "      <td>1</td>\n",
       "      <td>na</td>\n",
       "    </tr>\n",
       "    <tr>\n",
       "      <th>2</th>\n",
       "      <td>Магазин кроссовок / Sniiiky</td>\n",
       "      <td>Анна,  спасибо! &lt;img class=\"emoji_css\" alt=\"&amp;#...</td>\n",
       "      <td>25 ноя 2017 в 9:04</td>\n",
       "      <td>False</td>\n",
       "      <td>1</td>\n",
       "      <td>[Анна]</td>\n",
       "    </tr>\n",
       "    <tr>\n",
       "      <th>3</th>\n",
       "      <td>Анна Николаева</td>\n",
       "      <td>Вчера получила, до сих пор не нарадуюсь и про ...</td>\n",
       "      <td>27 ноя 2017 в 16:20</td>\n",
       "      <td>True</td>\n",
       "      <td>1</td>\n",
       "      <td>na</td>\n",
       "    </tr>\n",
       "    <tr>\n",
       "      <th>4</th>\n",
       "      <td>Магазин кроссовок / Sniiiky</td>\n",
       "      <td>Анна,  спасибо! &lt;img class=\"emoji_css\" alt=\"&amp;#...</td>\n",
       "      <td>27 ноя 2017 в 19:22</td>\n",
       "      <td>False</td>\n",
       "      <td>1</td>\n",
       "      <td>[Анна]</td>\n",
       "    </tr>\n",
       "    <tr>\n",
       "      <th>...</th>\n",
       "      <td>...</td>\n",
       "      <td>...</td>\n",
       "      <td>...</td>\n",
       "      <td>...</td>\n",
       "      <td>...</td>\n",
       "      <td>...</td>\n",
       "    </tr>\n",
       "    <tr>\n",
       "      <th>2689</th>\n",
       "      <td>Евгений Беляев</td>\n",
       "      <td>Заказывал Yezzy bost v2, шли долго из за каран...</td>\n",
       "      <td>28 апр 2020 в 19:09</td>\n",
       "      <td>True</td>\n",
       "      <td>0</td>\n",
       "      <td>na</td>\n",
       "    </tr>\n",
       "    <tr>\n",
       "      <th>2690</th>\n",
       "      <td>Андрей Ярилов</td>\n",
       "      <td>Доброго времени суток!) Заказал Yeezy 350 v2 y...</td>\n",
       "      <td>28 апр 2020 в 20:55</td>\n",
       "      <td>False</td>\n",
       "      <td>0</td>\n",
       "      <td>na</td>\n",
       "    </tr>\n",
       "    <tr>\n",
       "      <th>2691</th>\n",
       "      <td>Андрей Белый</td>\n",
       "      <td>Заказывал вчера, доставили сегодня. Спасибо бо...</td>\n",
       "      <td>29 апр 2020 в 22:35</td>\n",
       "      <td>True</td>\n",
       "      <td>0</td>\n",
       "      <td>na</td>\n",
       "    </tr>\n",
       "    <tr>\n",
       "      <th>2692</th>\n",
       "      <td>Екатерина Самылина</td>\n",
       "      <td>Качественная сумка,обязательно буду заказывать...</td>\n",
       "      <td>вчера в 14:56</td>\n",
       "      <td>True</td>\n",
       "      <td>0</td>\n",
       "      <td>na</td>\n",
       "    </tr>\n",
       "    <tr>\n",
       "      <th>2693</th>\n",
       "      <td>Никита Добрынин</td>\n",
       "      <td>Заказывал штаны Aape и лонгслив Heron Preston,...</td>\n",
       "      <td>вчера в 15:00</td>\n",
       "      <td>True</td>\n",
       "      <td>0</td>\n",
       "      <td>na</td>\n",
       "    </tr>\n",
       "  </tbody>\n",
       "</table>\n",
       "<p>2694 rows × 6 columns</p>\n",
       "</div>"
      ],
      "text/plain": [
       "                           author  \\\n",
       "0     Магазин кроссовок / Sniiiky   \n",
       "1                   Анна Токарева   \n",
       "2     Магазин кроссовок / Sniiiky   \n",
       "3                  Анна Николаева   \n",
       "4     Магазин кроссовок / Sniiiky   \n",
       "...                           ...   \n",
       "2689               Евгений Беляев   \n",
       "2690                Андрей Ярилов   \n",
       "2691                 Андрей Белый   \n",
       "2692           Екатерина Самылина   \n",
       "2693              Никита Добрынин   \n",
       "\n",
       "                                                comment                 date  \\\n",
       "0     Тема только для отзывов! За отзыв с фото вы по...   21 сен 2017 в 2:16   \n",
       "1     Сегодня забрала на почте! Качество отличное, у...   25 ноя 2017 в 6:46   \n",
       "2     Анна,  спасибо! <img class=\"emoji_css\" alt=\"&#...   25 ноя 2017 в 9:04   \n",
       "3     Вчера получила, до сих пор не нарадуюсь и про ...  27 ноя 2017 в 16:20   \n",
       "4     Анна,  спасибо! <img class=\"emoji_css\" alt=\"&#...  27 ноя 2017 в 19:22   \n",
       "...                                                 ...                  ...   \n",
       "2689  Заказывал Yezzy bost v2, шли долго из за каран...  28 апр 2020 в 19:09   \n",
       "2690  Доброго времени суток!) Заказал Yeezy 350 v2 y...  28 апр 2020 в 20:55   \n",
       "2691  Заказывал вчера, доставили сегодня. Спасибо бо...  29 апр 2020 в 22:35   \n",
       "2692  Качественная сумка,обязательно буду заказывать...        вчера в 14:56   \n",
       "2693  Заказывал штаны Aape и лонгслив Heron Preston,...        вчера в 15:00   \n",
       "\n",
       "      image  is_fake mention  \n",
       "0     False        1      na  \n",
       "1      True        1      na  \n",
       "2     False        1  [Анна]  \n",
       "3      True        1      na  \n",
       "4     False        1  [Анна]  \n",
       "...     ...      ...     ...  \n",
       "2689   True        0      na  \n",
       "2690  False        0      na  \n",
       "2691   True        0      na  \n",
       "2692   True        0      na  \n",
       "2693   True        0      na  \n",
       "\n",
       "[2694 rows x 6 columns]"
      ]
     },
     "execution_count": 6,
     "metadata": {},
     "output_type": "execute_result"
    }
   ],
   "source": [
    "# объединяем датафреймы\n",
    "\n",
    "df = pd.concat([df_false, df_true], sort=True, ignore_index=True)\n",
    "df"
   ]
  },
  {
   "cell_type": "code",
   "execution_count": 7,
   "metadata": {},
   "outputs": [],
   "source": [
    "# сохраняем результат в отдельный файл\n",
    "\n",
    "df.to_csv('raw.csv', encoding='utf-8-sig')"
   ]
  },
  {
   "cell_type": "markdown",
   "metadata": {},
   "source": [
    "## Предобработка данных"
   ]
  },
  {
   "cell_type": "code",
   "execution_count": 8,
   "metadata": {},
   "outputs": [],
   "source": [
    "# удаляем комментарии владельцев групп\n",
    "\n",
    "owners = ['BERISHMOT Store', 'Андрей Северец', 'Магазин кроссовок / Sniiiky',\n",
    "          'Настя Осипова', '|Мобильные телефоны|', 'RUDI ROYALE', 'NICE DEVISE | Москва',\n",
    "          'Lovely Shop - магазин женской одежды', 'Non S7op Shop (Nike~Reebok~Adidas~Asics)',\n",
    "          'Модная женская одежда \"Valum\"', \"Lady's Shop - магазин шикарной одежды\"]\n",
    "\n",
    "for i in owners:\n",
    "    df = df[df.author != i]"
   ]
  },
  {
   "cell_type": "code",
   "execution_count": 9,
   "metadata": {},
   "outputs": [
    {
     "data": {
      "text/plain": [
       "(2151, 6)"
      ]
     },
     "execution_count": 9,
     "metadata": {},
     "output_type": "execute_result"
    }
   ],
   "source": [
    "df.shape"
   ]
  },
  {
   "cell_type": "code",
   "execution_count": 10,
   "metadata": {},
   "outputs": [],
   "source": [
    "# удаляем из текстов теги и гиперссылки\n",
    "\n",
    "def clean_str(string):\n",
    "    \"\"\"\n",
    "    String cleaning: return only words\n",
    "    \"\"\"\n",
    "    string = re.sub('<.*?>', ' ', string)\n",
    "    string = re.sub(r\"\\s{2,}\", \" \", string)\n",
    "    return string\n",
    "\n",
    "df['comment'] = df['comment'].apply(clean_str)"
   ]
  },
  {
   "cell_type": "code",
   "execution_count": 11,
   "metadata": {},
   "outputs": [],
   "source": [
    "# удаляем сообщения с упоминанием пользователей\n",
    "# чаще всего это вопросы или ответы, а не отзывы\n",
    "\n",
    "df = df[df.mention == 'na']\n",
    "df = df.reset_index().drop(['mention', 'index'], axis=1)"
   ]
  },
  {
   "cell_type": "code",
   "execution_count": 12,
   "metadata": {},
   "outputs": [],
   "source": [
    "indxs = df[df.comment.str.contains(\"\\?\", na=False)].index"
   ]
  },
  {
   "cell_type": "code",
   "execution_count": 13,
   "metadata": {},
   "outputs": [
    {
     "data": {
      "text/plain": [
       "(1776, 5)"
      ]
     },
     "execution_count": 13,
     "metadata": {},
     "output_type": "execute_result"
    }
   ],
   "source": [
    "df.shape"
   ]
  },
  {
   "cell_type": "code",
   "execution_count": 14,
   "metadata": {},
   "outputs": [],
   "source": [
    "df = df.drop(df.index[indxs])"
   ]
  },
  {
   "cell_type": "code",
   "execution_count": 15,
   "metadata": {},
   "outputs": [],
   "source": [
    "# удаляем вхождения с вопросами \n",
    "\n",
    "df = df.drop(df.columns[[0]], axis=1)\n",
    "\n",
    "df.to_csv('out.csv', encoding='utf-8-sig')"
   ]
  },
  {
   "cell_type": "code",
   "execution_count": 16,
   "metadata": {},
   "outputs": [
    {
     "data": {
      "text/plain": [
       "(1644, 4)"
      ]
     },
     "execution_count": 16,
     "metadata": {},
     "output_type": "execute_result"
    }
   ],
   "source": [
    "df.shape"
   ]
  },
  {
   "cell_type": "code",
   "execution_count": 17,
   "metadata": {},
   "outputs": [
    {
     "data": {
      "text/html": [
       "<div>\n",
       "<style scoped>\n",
       "    .dataframe tbody tr th:only-of-type {\n",
       "        vertical-align: middle;\n",
       "    }\n",
       "\n",
       "    .dataframe tbody tr th {\n",
       "        vertical-align: top;\n",
       "    }\n",
       "\n",
       "    .dataframe thead th {\n",
       "        text-align: right;\n",
       "    }\n",
       "</style>\n",
       "<table border=\"1\" class=\"dataframe\">\n",
       "  <thead>\n",
       "    <tr style=\"text-align: right;\">\n",
       "      <th></th>\n",
       "      <th>comment</th>\n",
       "      <th>date</th>\n",
       "      <th>image</th>\n",
       "      <th>is_fake</th>\n",
       "    </tr>\n",
       "  </thead>\n",
       "  <tbody>\n",
       "    <tr>\n",
       "      <th>0</th>\n",
       "      <td>Сегодня забрала на почте! Качество отличное, у...</td>\n",
       "      <td>25 ноя 2017 в 6:46</td>\n",
       "      <td>True</td>\n",
       "      <td>1</td>\n",
       "    </tr>\n",
       "    <tr>\n",
       "      <th>1</th>\n",
       "      <td>Вчера получила, до сих пор не нарадуюсь и про ...</td>\n",
       "      <td>27 ноя 2017 в 16:20</td>\n",
       "      <td>True</td>\n",
       "      <td>1</td>\n",
       "    </tr>\n",
       "    <tr>\n",
       "      <th>2</th>\n",
       "      <td>Спасибо большое Всё отлично! Очень нравится</td>\n",
       "      <td>28 ноя 2017 в 14:07</td>\n",
       "      <td>True</td>\n",
       "      <td>1</td>\n",
       "    </tr>\n",
       "  </tbody>\n",
       "</table>\n",
       "</div>"
      ],
      "text/plain": [
       "                                             comment                 date  \\\n",
       "0  Сегодня забрала на почте! Качество отличное, у...   25 ноя 2017 в 6:46   \n",
       "1  Вчера получила, до сих пор не нарадуюсь и про ...  27 ноя 2017 в 16:20   \n",
       "2       Спасибо большое Всё отлично! Очень нравится   28 ноя 2017 в 14:07   \n",
       "\n",
       "  image  is_fake  \n",
       "0  True        1  \n",
       "1  True        1  \n",
       "2  True        1  "
      ]
     },
     "execution_count": 17,
     "metadata": {},
     "output_type": "execute_result"
    }
   ],
   "source": [
    "df.head(3)"
   ]
  },
  {
   "cell_type": "markdown",
   "metadata": {},
   "source": [
    "# Исследование данных"
   ]
  },
  {
   "cell_type": "markdown",
   "metadata": {},
   "source": [
    "Количество реальных и фейковых отзывов в корпусе:"
   ]
  },
  {
   "cell_type": "code",
   "execution_count": 18,
   "metadata": {},
   "outputs": [
    {
     "data": {
      "text/plain": [
       "0    1192\n",
       "1     452\n",
       "Name: is_fake, dtype: int64"
      ]
     },
     "execution_count": 18,
     "metadata": {},
     "output_type": "execute_result"
    }
   ],
   "source": [
    "df['is_fake'].value_counts()"
   ]
  },
  {
   "cell_type": "markdown",
   "metadata": {},
   "source": [
    "Доля реальных комментариев в корпусе:"
   ]
  },
  {
   "cell_type": "code",
   "execution_count": 19,
   "metadata": {},
   "outputs": [
    {
     "data": {
      "text/plain": [
       "0.745"
      ]
     },
     "execution_count": 19,
     "metadata": {},
     "output_type": "execute_result"
    }
   ],
   "source": [
    "res = 1324 / (1324 + 452)\n",
    "round(res, 3)"
   ]
  },
  {
   "cell_type": "markdown",
   "metadata": {},
   "source": [
    "Количество отзывов с приклеплёнными фотографиями:"
   ]
  },
  {
   "cell_type": "code",
   "execution_count": 20,
   "metadata": {},
   "outputs": [
    {
     "data": {
      "text/plain": [
       "True     1275\n",
       "False     369\n",
       "Name: image, dtype: int64"
      ]
     },
     "execution_count": 20,
     "metadata": {},
     "output_type": "execute_result"
    }
   ],
   "source": [
    "df['image'].value_counts()"
   ]
  },
  {
   "cell_type": "markdown",
   "metadata": {},
   "source": [
    "Часть отзывов с фото для фэйковых отзывов:"
   ]
  },
  {
   "cell_type": "code",
   "execution_count": 21,
   "metadata": {},
   "outputs": [
    {
     "data": {
      "text/plain": [
       "0.695"
      ]
     },
     "execution_count": 21,
     "metadata": {},
     "output_type": "execute_result"
    }
   ],
   "source": [
    "round(len(df[(df.image==True) & (df.is_fake==1)]) / len(df[df.is_fake==1]), 3)"
   ]
  },
  {
   "cell_type": "markdown",
   "metadata": {},
   "source": [
    "Часть отзывов с фото для реальных отзывов:"
   ]
  },
  {
   "cell_type": "code",
   "execution_count": 22,
   "metadata": {},
   "outputs": [
    {
     "data": {
      "text/plain": [
       "0.806"
      ]
     },
     "execution_count": 22,
     "metadata": {},
     "output_type": "execute_result"
    }
   ],
   "source": [
    "round(len(df[(df.image==True) & (df.is_fake==0)]) / len(df[df.is_fake==0]), 3)"
   ]
  },
  {
   "cell_type": "markdown",
   "metadata": {},
   "source": [
    "Добавим некоторые данные:"
   ]
  },
  {
   "cell_type": "code",
   "execution_count": 23,
   "metadata": {},
   "outputs": [],
   "source": [
    "df_add = df.copy()\n",
    "\n",
    "df_add['count_words'] = df[\"comment\"].apply(lambda x: len(str(x).split()))\n",
    "df_add['count_unique_words'] = df[\"comment\"].apply(lambda x: len(set(str(x).split())))\n",
    "df_add['count_letters'] = df[\"comment\"].apply(lambda x: len(str(x)))\n",
    "df_add[\"count_punctuations\"] = df[\"comment\"].apply(lambda x: len([c for c in str(x) if c in string.punctuation]))\n",
    "df_add[\"count_words_upper\"] = df[\"comment\"].apply(lambda x: len([w for w in str(x).split() if w.isupper()]))\n",
    "df_add[\"count_words_title\"] = df[\"comment\"].apply(lambda x: len([w for w in str(x).split() if w.istitle()]))"
   ]
  },
  {
   "cell_type": "code",
   "execution_count": 24,
   "metadata": {},
   "outputs": [
    {
     "data": {
      "text/html": [
       "<div>\n",
       "<style scoped>\n",
       "    .dataframe tbody tr th:only-of-type {\n",
       "        vertical-align: middle;\n",
       "    }\n",
       "\n",
       "    .dataframe tbody tr th {\n",
       "        vertical-align: top;\n",
       "    }\n",
       "\n",
       "    .dataframe thead th {\n",
       "        text-align: right;\n",
       "    }\n",
       "</style>\n",
       "<table border=\"1\" class=\"dataframe\">\n",
       "  <thead>\n",
       "    <tr style=\"text-align: right;\">\n",
       "      <th></th>\n",
       "      <th>comment</th>\n",
       "      <th>date</th>\n",
       "      <th>image</th>\n",
       "      <th>is_fake</th>\n",
       "      <th>count_words</th>\n",
       "      <th>count_unique_words</th>\n",
       "      <th>count_letters</th>\n",
       "      <th>count_punctuations</th>\n",
       "      <th>count_words_upper</th>\n",
       "      <th>count_words_title</th>\n",
       "    </tr>\n",
       "  </thead>\n",
       "  <tbody>\n",
       "    <tr>\n",
       "      <th>1771</th>\n",
       "      <td>Заказывал Yezzy bost v2, шли долго из за каран...</td>\n",
       "      <td>28 апр 2020 в 19:09</td>\n",
       "      <td>True</td>\n",
       "      <td>0</td>\n",
       "      <td>21</td>\n",
       "      <td>21</td>\n",
       "      <td>132</td>\n",
       "      <td>4</td>\n",
       "      <td>0</td>\n",
       "      <td>3</td>\n",
       "    </tr>\n",
       "    <tr>\n",
       "      <th>1772</th>\n",
       "      <td>Доброго времени суток!) Заказал Yeezy 350 v2 y...</td>\n",
       "      <td>28 апр 2020 в 20:55</td>\n",
       "      <td>False</td>\n",
       "      <td>0</td>\n",
       "      <td>36</td>\n",
       "      <td>36</td>\n",
       "      <td>230</td>\n",
       "      <td>11</td>\n",
       "      <td>0</td>\n",
       "      <td>6</td>\n",
       "    </tr>\n",
       "    <tr>\n",
       "      <th>1773</th>\n",
       "      <td>Заказывал вчера, доставили сегодня. Спасибо бо...</td>\n",
       "      <td>29 апр 2020 в 22:35</td>\n",
       "      <td>True</td>\n",
       "      <td>0</td>\n",
       "      <td>18</td>\n",
       "      <td>17</td>\n",
       "      <td>125</td>\n",
       "      <td>4</td>\n",
       "      <td>0</td>\n",
       "      <td>3</td>\n",
       "    </tr>\n",
       "    <tr>\n",
       "      <th>1774</th>\n",
       "      <td>Качественная сумка,обязательно буду заказывать...</td>\n",
       "      <td>вчера в 14:56</td>\n",
       "      <td>True</td>\n",
       "      <td>0</td>\n",
       "      <td>6</td>\n",
       "      <td>6</td>\n",
       "      <td>62</td>\n",
       "      <td>3</td>\n",
       "      <td>0</td>\n",
       "      <td>1</td>\n",
       "    </tr>\n",
       "    <tr>\n",
       "      <th>1775</th>\n",
       "      <td>Заказывал штаны Aape и лонгслив Heron Preston,...</td>\n",
       "      <td>вчера в 15:00</td>\n",
       "      <td>True</td>\n",
       "      <td>0</td>\n",
       "      <td>15</td>\n",
       "      <td>15</td>\n",
       "      <td>111</td>\n",
       "      <td>7</td>\n",
       "      <td>0</td>\n",
       "      <td>4</td>\n",
       "    </tr>\n",
       "  </tbody>\n",
       "</table>\n",
       "</div>"
      ],
      "text/plain": [
       "                                                comment                 date  \\\n",
       "1771  Заказывал Yezzy bost v2, шли долго из за каран...  28 апр 2020 в 19:09   \n",
       "1772  Доброго времени суток!) Заказал Yeezy 350 v2 y...  28 апр 2020 в 20:55   \n",
       "1773  Заказывал вчера, доставили сегодня. Спасибо бо...  29 апр 2020 в 22:35   \n",
       "1774  Качественная сумка,обязательно буду заказывать...        вчера в 14:56   \n",
       "1775  Заказывал штаны Aape и лонгслив Heron Preston,...        вчера в 15:00   \n",
       "\n",
       "      image  is_fake  count_words  count_unique_words  count_letters  \\\n",
       "1771   True        0           21                  21            132   \n",
       "1772  False        0           36                  36            230   \n",
       "1773   True        0           18                  17            125   \n",
       "1774   True        0            6                   6             62   \n",
       "1775   True        0           15                  15            111   \n",
       "\n",
       "      count_punctuations  count_words_upper  count_words_title  \n",
       "1771                   4                  0                  3  \n",
       "1772                  11                  0                  6  \n",
       "1773                   4                  0                  3  \n",
       "1774                   3                  0                  1  \n",
       "1775                   7                  0                  4  "
      ]
     },
     "execution_count": 24,
     "metadata": {},
     "output_type": "execute_result"
    }
   ],
   "source": [
    "df_add.tail()"
   ]
  },
  {
   "cell_type": "code",
   "execution_count": 25,
   "metadata": {},
   "outputs": [
    {
     "data": {
      "text/plain": [
       "Index(['comment', 'date', 'image', 'is_fake', 'count_words',\n",
       "       'count_unique_words', 'count_letters', 'count_punctuations',\n",
       "       'count_words_upper', 'count_words_title'],\n",
       "      dtype='object')"
      ]
     },
     "execution_count": 25,
     "metadata": {},
     "output_type": "execute_result"
    }
   ],
   "source": [
    "df_add.columns"
   ]
  },
  {
   "cell_type": "code",
   "execution_count": 26,
   "metadata": {},
   "outputs": [
    {
     "name": "stdout",
     "output_type": "stream",
     "text": [
      "Среднее число слов в фейковых отзывах: 20.332\n",
      "Среднее число слов в реальных отзывах: 23.014\n"
     ]
    }
   ],
   "source": [
    "print(\"Среднее число слов в фейковых отзывах: {}\".\n",
    "      format(round(df_add[df_add.is_fake == True].count_words.mean(), 3)))\n",
    "print(\"Среднее число слов в реальных отзывах: {}\".\n",
    "      format(round(df_add[df_add.is_fake == False].count_words.mean(), 3)))"
   ]
  },
  {
   "cell_type": "code",
   "execution_count": 27,
   "metadata": {},
   "outputs": [
    {
     "name": "stdout",
     "output_type": "stream",
     "text": [
      "Среднее число уникальных слов в фейковых отзывах: 19.314\n",
      "Среднее число уникальных слов в реальных отзывах: 21.369\n"
     ]
    }
   ],
   "source": [
    "print(\"Среднее число уникальных слов в фейковых отзывах: {}\".\n",
    "      format(round(df_add[df_add.is_fake == True].count_unique_words.mean(), 3)))\n",
    "print(\"Среднее число уникальных слов в реальных отзывах: {}\".\n",
    "      format(round(df_add[df_add.is_fake == False].count_unique_words.mean(), 3)))"
   ]
  },
  {
   "cell_type": "code",
   "execution_count": 28,
   "metadata": {},
   "outputs": [
    {
     "name": "stdout",
     "output_type": "stream",
     "text": [
      "Среднее число символов в фейковых отзывах: 141.219\n",
      "Среднее число символов в реальных отзывах: 152.594\n"
     ]
    }
   ],
   "source": [
    "print(\"Среднее число символов в фейковых отзывах: {}\".\n",
    "      format(round(df_add[df_add.is_fake == True].count_letters.mean(), 3)))\n",
    "print(\"Среднее число символов в реальных отзывах: {}\".\n",
    "      format(round(df_add[df_add.is_fake == False].count_letters.mean(), 3)))"
   ]
  },
  {
   "cell_type": "code",
   "execution_count": 29,
   "metadata": {},
   "outputs": [
    {
     "name": "stdout",
     "output_type": "stream",
     "text": [
      "Среднее число знаков пунктуации в фейковых отзывах: 6.814\n",
      "Среднее число знаков пунктуации в реальных отзывах: 6.219\n"
     ]
    }
   ],
   "source": [
    "print(\"Среднее число знаков пунктуации в фейковых отзывах: {}\".\n",
    "      format(round(df_add[df_add.is_fake == True].count_punctuations.mean(), 3)))\n",
    "print(\"Среднее число знаков пунктуации в реальных отзывах: {}\".\n",
    "      format(round(df_add[df_add.is_fake == False].count_punctuations.mean(), 3)))"
   ]
  },
  {
   "cell_type": "code",
   "execution_count": 30,
   "metadata": {},
   "outputs": [
    {
     "name": "stdout",
     "output_type": "stream",
     "text": [
      "Среднее число слов в верхнем регистре в фейковых отзывах: 0.219\n",
      "Среднее число слов в верхнем регистре в реальных отзывах: 0.404\n"
     ]
    }
   ],
   "source": [
    "print(\"Среднее число слов в верхнем регистре в фейковых отзывах: {}\".\n",
    "      format(round(df_add[df_add.is_fake == True].count_words_upper.mean(), 3)))\n",
    "print(\"Среднее число слов в верхнем регистре в реальных отзывах: {}\".\n",
    "      format(round(df_add[df_add.is_fake == False].count_words_upper.mean(), 3)))"
   ]
  },
  {
   "cell_type": "code",
   "execution_count": 31,
   "metadata": {},
   "outputs": [
    {
     "name": "stdout",
     "output_type": "stream",
     "text": [
      "Среднее число слов, написанных с заглавной буквы, в фейковых отзывах: 2.482\n",
      "Среднее число слов, написанных с заглавной буквы, в реальных отзывах: 3.646\n"
     ]
    }
   ],
   "source": [
    "print(\"Среднее число слов, написанных с заглавной буквы, в фейковых отзывах: {}\".\n",
    "      format(round(df_add[df_add.is_fake == True].count_words_title.mean(), 3)))\n",
    "print(\"Среднее число слов, написанных с заглавной буквы, в реальных отзывах: {}\".\n",
    "      format(round(df_add[df_add.is_fake == False].count_words_title.mean(), 3)))"
   ]
  },
  {
   "cell_type": "markdown",
   "metadata": {},
   "source": [
    "## Tokenizing words"
   ]
  },
  {
   "cell_type": "code",
   "execution_count": 32,
   "metadata": {},
   "outputs": [],
   "source": [
    "# составим список, включающий в себя все уникальные слова корпуса\n",
    "# лемматизируем слова\n",
    "\n",
    "vocabulary = []\n",
    "numWords = []\n",
    "lemmatized_texts = []\n",
    "\n",
    "def text_lemmatize(text):\n",
    "    global vocabulary \n",
    "    global numWords\n",
    "    try:\n",
    "        text = re.sub(r\"[^А-Яа-яё]\", \" \", text).strip()\n",
    "        ps = Mystem()\n",
    "        text = ps.lemmatize(text)\n",
    "        lemmatized_texts.append(text)\n",
    "        vocabulary.extend(text)\n",
    "        numWords.append(len(text))\n",
    "        return ' '.join(text)\n",
    "    except:\n",
    "        lemmatized_texts.append('')\n",
    "        return ''"
   ]
  },
  {
   "cell_type": "code",
   "execution_count": 33,
   "metadata": {},
   "outputs": [],
   "source": [
    "df_lem = df.copy()\n",
    "df_lem['comment'] = df_lem['comment'].apply(text_lemmatize)\n",
    "\n",
    "vocabulary = list(set(vocabulary))"
   ]
  },
  {
   "cell_type": "code",
   "execution_count": 34,
   "metadata": {
    "scrolled": true
   },
   "outputs": [
    {
     "data": {
      "image/png": "[encoded data removed]",
      "text/plain": [
       "<Figure size 432x288 with 1 Axes>"
      ]
     },
     "metadata": {
      "needs_background": "light"
     },
     "output_type": "display_data"
    }
   ],
   "source": [
    "plt.hist(numWords, 100)\n",
    "plt.xlabel('Review Length in Words')\n",
    "plt.ylabel('Count')\n",
    "plt.show()"
   ]
  },
  {
   "cell_type": "code",
   "execution_count": 35,
   "metadata": {},
   "outputs": [
    {
     "name": "stdout",
     "output_type": "stream",
     "text": [
      "Всего отзывов:  1644\n",
      "Всего слов:  70866\n",
      "Всего уникальных слов:  2704\n",
      "Средняя длина отзыва в словах:  43.105839416058394\n"
     ]
    }
   ],
   "source": [
    "print('Всего отзывов: ', len(numWords))\n",
    "print('Всего слов: ', sum(numWords))\n",
    "print('Всего уникальных слов: ', len(vocabulary))\n",
    "print('Средняя длина отзыва в словах: ', sum(numWords)/len(numWords))"
   ]
  },
  {
   "cell_type": "code",
   "execution_count": 36,
   "metadata": {},
   "outputs": [
    {
     "data": {
      "text/html": [
       "<div>\n",
       "<style scoped>\n",
       "    .dataframe tbody tr th:only-of-type {\n",
       "        vertical-align: middle;\n",
       "    }\n",
       "\n",
       "    .dataframe tbody tr th {\n",
       "        vertical-align: top;\n",
       "    }\n",
       "\n",
       "    .dataframe thead th {\n",
       "        text-align: right;\n",
       "    }\n",
       "</style>\n",
       "<table border=\"1\" class=\"dataframe\">\n",
       "  <thead>\n",
       "    <tr style=\"text-align: right;\">\n",
       "      <th></th>\n",
       "      <th>comment</th>\n",
       "      <th>date</th>\n",
       "      <th>image</th>\n",
       "      <th>is_fake</th>\n",
       "      <th>lemmas</th>\n",
       "    </tr>\n",
       "  </thead>\n",
       "  <tbody>\n",
       "    <tr>\n",
       "      <th>0</th>\n",
       "      <td>сегодня   забирать   на   почта    качество   ...</td>\n",
       "      <td>25 ноя 2017 в 6:46</td>\n",
       "      <td>True</td>\n",
       "      <td>1</td>\n",
       "      <td>[сегодня,  , забирать,  , на,  , почта,   , ка...</td>\n",
       "    </tr>\n",
       "    <tr>\n",
       "      <th>1</th>\n",
       "      <td>вчера   получать    до   сей   пора   не   нар...</td>\n",
       "      <td>27 ноя 2017 в 16:20</td>\n",
       "      <td>True</td>\n",
       "      <td>1</td>\n",
       "      <td>[вчера,  , получать,   , до,  , сей,  , пора, ...</td>\n",
       "    </tr>\n",
       "    <tr>\n",
       "      <th>2</th>\n",
       "      <td>спасибо   большой   все   отличный    очень   ...</td>\n",
       "      <td>28 ноя 2017 в 14:07</td>\n",
       "      <td>True</td>\n",
       "      <td>1</td>\n",
       "      <td>[спасибо,  , большой,  , все,  , отличный,   ,...</td>\n",
       "    </tr>\n",
       "    <tr>\n",
       "      <th>3</th>\n",
       "      <td>спасибо   за   офигенный   кросс \\n</td>\n",
       "      <td>1 дек 2017 в 20:55</td>\n",
       "      <td>True</td>\n",
       "      <td>1</td>\n",
       "      <td>[спасибо,  , за,  , офигенный,  , кросс, \\n]</td>\n",
       "    </tr>\n",
       "    <tr>\n",
       "      <th>4</th>\n",
       "      <td>все   получать    переживать   за   качество  ...</td>\n",
       "      <td>2 дек 2017 в 17:22</td>\n",
       "      <td>True</td>\n",
       "      <td>1</td>\n",
       "      <td>[все,  , получать,   , переживать,  , за,  , к...</td>\n",
       "    </tr>\n",
       "    <tr>\n",
       "      <th>...</th>\n",
       "      <td>...</td>\n",
       "      <td>...</td>\n",
       "      <td>...</td>\n",
       "      <td>...</td>\n",
       "      <td>...</td>\n",
       "    </tr>\n",
       "    <tr>\n",
       "      <th>1771</th>\n",
       "      <td>заказывать                  идти   долго   из ...</td>\n",
       "      <td>28 апр 2020 в 19:09</td>\n",
       "      <td>True</td>\n",
       "      <td>0</td>\n",
       "      <td>[заказывать,                 , идти,  , долго,...</td>\n",
       "    </tr>\n",
       "    <tr>\n",
       "      <th>1772</th>\n",
       "      <td>добрый   время   сутки     заказывать         ...</td>\n",
       "      <td>28 апр 2020 в 20:55</td>\n",
       "      <td>False</td>\n",
       "      <td>0</td>\n",
       "      <td>[добрый,  , время,  , сутки,    , заказывать, ...</td>\n",
       "    </tr>\n",
       "    <tr>\n",
       "      <th>1773</th>\n",
       "      <td>заказывать   вчера    доставлять   сегодня    ...</td>\n",
       "      <td>29 апр 2020 в 22:35</td>\n",
       "      <td>True</td>\n",
       "      <td>0</td>\n",
       "      <td>[заказывать,  , вчера,   , доставлять,  , сего...</td>\n",
       "    </tr>\n",
       "    <tr>\n",
       "      <th>1774</th>\n",
       "      <td>качественный   сумка   обязательно   быть   за...</td>\n",
       "      <td>вчера в 14:56</td>\n",
       "      <td>True</td>\n",
       "      <td>0</td>\n",
       "      <td>[качественный,  , сумка,  , обязательно,  , бы...</td>\n",
       "    </tr>\n",
       "    <tr>\n",
       "      <th>1775</th>\n",
       "      <td>заказывать   штаны        и   лонгслив        ...</td>\n",
       "      <td>вчера в 15:00</td>\n",
       "      <td>True</td>\n",
       "      <td>0</td>\n",
       "      <td>[заказывать,  , штаны,       , и,  , лонгслив,...</td>\n",
       "    </tr>\n",
       "  </tbody>\n",
       "</table>\n",
       "<p>1644 rows × 5 columns</p>\n",
       "</div>"
      ],
      "text/plain": [
       "                                                comment                 date  \\\n",
       "0     сегодня   забирать   на   почта    качество   ...   25 ноя 2017 в 6:46   \n",
       "1     вчера   получать    до   сей   пора   не   нар...  27 ноя 2017 в 16:20   \n",
       "2     спасибо   большой   все   отличный    очень   ...  28 ноя 2017 в 14:07   \n",
       "3                   спасибо   за   офигенный   кросс \\n   1 дек 2017 в 20:55   \n",
       "4     все   получать    переживать   за   качество  ...   2 дек 2017 в 17:22   \n",
       "...                                                 ...                  ...   \n",
       "1771  заказывать                  идти   долго   из ...  28 апр 2020 в 19:09   \n",
       "1772  добрый   время   сутки     заказывать         ...  28 апр 2020 в 20:55   \n",
       "1773  заказывать   вчера    доставлять   сегодня    ...  29 апр 2020 в 22:35   \n",
       "1774  качественный   сумка   обязательно   быть   за...        вчера в 14:56   \n",
       "1775  заказывать   штаны        и   лонгслив        ...        вчера в 15:00   \n",
       "\n",
       "      image  is_fake                                             lemmas  \n",
       "0      True        1  [сегодня,  , забирать,  , на,  , почта,   , ка...  \n",
       "1      True        1  [вчера,  , получать,   , до,  , сей,  , пора, ...  \n",
       "2      True        1  [спасибо,  , большой,  , все,  , отличный,   ,...  \n",
       "3      True        1       [спасибо,  , за,  , офигенный,  , кросс, \\n]  \n",
       "4      True        1  [все,  , получать,   , переживать,  , за,  , к...  \n",
       "...     ...      ...                                                ...  \n",
       "1771   True        0  [заказывать,                 , идти,  , долго,...  \n",
       "1772  False        0  [добрый,  , время,  , сутки,    , заказывать, ...  \n",
       "1773   True        0  [заказывать,  , вчера,   , доставлять,  , сего...  \n",
       "1774   True        0  [качественный,  , сумка,  , обязательно,  , бы...  \n",
       "1775   True        0  [заказывать,  , штаны,       , и,  , лонгслив,...  \n",
       "\n",
       "[1644 rows x 5 columns]"
      ]
     },
     "execution_count": 36,
     "metadata": {},
     "output_type": "execute_result"
    }
   ],
   "source": [
    "df_lem['lemmas'] = lemmatized_texts\n",
    "df_lem"
   ]
  },
  {
   "cell_type": "code",
   "execution_count": 37,
   "metadata": {},
   "outputs": [],
   "source": [
    "# удалим пустые леммы\n",
    "\n",
    "clean_lemmas = []\n",
    "regex = re.compile(r'\\s+')\n",
    "\n",
    "for text in lemmatized_texts:\n",
    "    clean_lemmas.append([i for i in text if not regex.search(i)])\n",
    "\n",
    "df_lem['lemmas'] = clean_lemmas"
   ]
  },
  {
   "cell_type": "code",
   "execution_count": 38,
   "metadata": {},
   "outputs": [],
   "source": [
    "# делаем стемминг лемм\n",
    "\n",
    "stemmer = SnowballStemmer(\"russian\", ignore_stopwords=True)\n",
    "stems = []\n",
    "\n",
    "for i in df_lem.lemmas:\n",
    "    row = []\n",
    "    for n in i:\n",
    "        row.append(stemmer.stem(n))\n",
    "    stems.append(row)    "
   ]
  },
  {
   "cell_type": "code",
   "execution_count": 39,
   "metadata": {},
   "outputs": [
    {
     "data": {
      "text/html": [
       "<div>\n",
       "<style scoped>\n",
       "    .dataframe tbody tr th:only-of-type {\n",
       "        vertical-align: middle;\n",
       "    }\n",
       "\n",
       "    .dataframe tbody tr th {\n",
       "        vertical-align: top;\n",
       "    }\n",
       "\n",
       "    .dataframe thead th {\n",
       "        text-align: right;\n",
       "    }\n",
       "</style>\n",
       "<table border=\"1\" class=\"dataframe\">\n",
       "  <thead>\n",
       "    <tr style=\"text-align: right;\">\n",
       "      <th></th>\n",
       "      <th>comment</th>\n",
       "      <th>date</th>\n",
       "      <th>image</th>\n",
       "      <th>is_fake</th>\n",
       "      <th>lemmas</th>\n",
       "      <th>stem</th>\n",
       "    </tr>\n",
       "  </thead>\n",
       "  <tbody>\n",
       "    <tr>\n",
       "      <th>0</th>\n",
       "      <td>сегодня   забирать   на   почта    качество   ...</td>\n",
       "      <td>25 ноя 2017 в 6:46</td>\n",
       "      <td>True</td>\n",
       "      <td>1</td>\n",
       "      <td>[сегодня, забирать, на, почта, качество, отлич...</td>\n",
       "      <td>[сегодн, забира, на, почт, качеств, отличн, уп...</td>\n",
       "    </tr>\n",
       "    <tr>\n",
       "      <th>1</th>\n",
       "      <td>вчера   получать    до   сей   пора   не   нар...</td>\n",
       "      <td>27 ноя 2017 в 16:20</td>\n",
       "      <td>True</td>\n",
       "      <td>1</td>\n",
       "      <td>[вчера, получать, до, сей, пора, не, нарадоват...</td>\n",
       "      <td>[вчер, получа, до, се, пор, не, нарадова, и, п...</td>\n",
       "    </tr>\n",
       "    <tr>\n",
       "      <th>2</th>\n",
       "      <td>спасибо   большой   все   отличный    очень   ...</td>\n",
       "      <td>28 ноя 2017 в 14:07</td>\n",
       "      <td>True</td>\n",
       "      <td>1</td>\n",
       "      <td>[спасибо, большой, все, отличный, очень, нрави...</td>\n",
       "      <td>[спасиб, больш, все, отличн, очен, нрав]</td>\n",
       "    </tr>\n",
       "  </tbody>\n",
       "</table>\n",
       "</div>"
      ],
      "text/plain": [
       "                                             comment                 date  \\\n",
       "0  сегодня   забирать   на   почта    качество   ...   25 ноя 2017 в 6:46   \n",
       "1  вчера   получать    до   сей   пора   не   нар...  27 ноя 2017 в 16:20   \n",
       "2  спасибо   большой   все   отличный    очень   ...  28 ноя 2017 в 14:07   \n",
       "\n",
       "  image  is_fake                                             lemmas  \\\n",
       "0  True        1  [сегодня, забирать, на, почта, качество, отлич...   \n",
       "1  True        1  [вчера, получать, до, сей, пора, не, нарадоват...   \n",
       "2  True        1  [спасибо, большой, все, отличный, очень, нрави...   \n",
       "\n",
       "                                                stem  \n",
       "0  [сегодн, забира, на, почт, качеств, отличн, уп...  \n",
       "1  [вчер, получа, до, се, пор, не, нарадова, и, п...  \n",
       "2           [спасиб, больш, все, отличн, очен, нрав]  "
      ]
     },
     "execution_count": 39,
     "metadata": {},
     "output_type": "execute_result"
    }
   ],
   "source": [
    "df_lem['stem'] = stems\n",
    "df_lem.head(3)"
   ]
  },
  {
   "cell_type": "code",
   "execution_count": 40,
   "metadata": {},
   "outputs": [
    {
     "data": {
      "text/plain": [
       "2413"
      ]
     },
     "execution_count": 40,
     "metadata": {},
     "output_type": "execute_result"
    }
   ],
   "source": [
    "# узнаем число уникальных стемм\n",
    "\n",
    "vocabulary_stem = list(itertools.chain.from_iterable([i for i in df_lem['stem']]))\n",
    "len(set(vocabulary_stem))"
   ]
  },
  {
   "cell_type": "code",
   "execution_count": 41,
   "metadata": {},
   "outputs": [],
   "source": [
    "df_lem.to_csv('out_bow.csv', encoding='utf-8-sig')"
   ]
  },
  {
   "cell_type": "markdown",
   "metadata": {},
   "source": [
    "# Мешок слов"
   ]
  },
  {
   "cell_type": "code",
   "execution_count": 42,
   "metadata": {},
   "outputs": [],
   "source": [
    "# создадим список лемм фейковых отзывов\n",
    "bagOfFake = list(itertools.chain.from_iterable([i for i in df_lem.lemmas[df.is_fake == 1]]))\n",
    "\n",
    "# создадим список лемм реальных отзывов\n",
    "bagOfReal = list(itertools.chain.from_iterable([i for i in df_lem.lemmas[df.is_fake == 0]]))\n",
    "\n",
    "# создадим список лемм всех отзывов\n",
    "bagOfAll = bagOfFake + bagOfReal"
   ]
  },
  {
   "cell_type": "code",
   "execution_count": 43,
   "metadata": {},
   "outputs": [],
   "source": [
    "# Формируем для каждого документа словарь в котором ключ - это слово, \n",
    "# а значение его частота в документе\n",
    "\n",
    "from nltk.corpus import stopwords\n",
    "stop_words = set(stopwords.words(\"russian\"))\n",
    "\n",
    "mapOfWordsFake = dict.fromkeys(vocabulary, 0)\n",
    "mapOfWordsReal = dict.fromkeys(vocabulary, 0)\n",
    "mapOfAllWords = dict.fromkeys(vocabulary, 0)\n",
    "\n",
    "for word in bagOfFake:\n",
    "    if word not in stop_words:\n",
    "        mapOfWordsFake[word] += 1\n",
    "for word in bagOfReal:\n",
    "    if word not in stop_words:\n",
    "        mapOfWordsReal[word] += 1\n",
    "for word in bagOfAll:\n",
    "    if word not in stop_words:\n",
    "        mapOfAllWords[word] += 1"
   ]
  },
  {
   "cell_type": "code",
   "execution_count": 44,
   "metadata": {},
   "outputs": [],
   "source": [
    "from wordcloud import WordCloud\n",
    "\n",
    "def word_cloud(list, file):\n",
    "    cloud = WordCloud(background_color=\"white\", max_words=100)\n",
    "    cloud.generate(' '.join(list))\n",
    "    plt.imshow(cloud, interpolation='bilinear')\n",
    "    plt.axis(\"off\")\n",
    "    plt.show()\n",
    "    cloud.to_file(file)"
   ]
  },
  {
   "cell_type": "code",
   "execution_count": 45,
   "metadata": {},
   "outputs": [],
   "source": [
    "# функция выводит топ-100 слов для словаря\n",
    "\n",
    "def maj_words(d):\n",
    "    big_pos = []\n",
    "    counter = 0\n",
    "    for w in sorted(d, key=d.get, reverse=True)[:100]:\n",
    "        big_pos.append(w)\n",
    "        if counter < 20:\n",
    "            print(w, d[w])\n",
    "            counter +=  1\n",
    "    return big_pos"
   ]
  },
  {
   "cell_type": "code",
   "execution_count": 46,
   "metadata": {},
   "outputs": [
    {
     "name": "stdout",
     "output_type": "stream",
     "text": [
      "заказывать 912\n",
      "качество 701\n",
      "спасибо 627\n",
      "приходить 532\n",
      "виктор 420\n",
      "очень 402\n",
      "размер 358\n",
      "весь 266\n",
      "день 260\n",
      "хороший 213\n",
      "носок 210\n",
      "магазин 210\n",
      "подарок 199\n",
      "доставка 192\n",
      "кроссовок 189\n",
      "отличный 185\n",
      "довольный 185\n",
      "это 170\n",
      "продавец 168\n",
      "подходить 159\n"
     ]
    }
   ],
   "source": [
    "mpn = maj_words(mapOfWordsReal)"
   ]
  },
  {
   "cell_type": "code",
   "execution_count": 47,
   "metadata": {},
   "outputs": [
    {
     "data": {
      "image/png": "[encoded data removed]",
      "text/plain": [
       "<Figure size 432x288 with 1 Axes>"
      ]
     },
     "metadata": {
      "needs_background": "light"
     },
     "output_type": "display_data"
    }
   ],
   "source": [
    "word_cloud(mpn, 'mpn.jpg')"
   ]
  },
  {
   "cell_type": "markdown",
   "metadata": {},
   "source": [
    "Вхождение в топ слова \"Виктор\" объясняется тем, что это имена владельца одного из рассмотренных пабликов. Многие пользователи благодарят его в своих отзывах."
   ]
  },
  {
   "cell_type": "code",
   "execution_count": 48,
   "metadata": {},
   "outputs": [
    {
     "name": "stdout",
     "output_type": "stream",
     "text": [
      "спасибо 281\n",
      "очень 210\n",
      "качество 164\n",
      "заказывать 158\n",
      "хороший 102\n",
      "получать 98\n",
      "довольный 96\n",
      "большой 90\n",
      "доставка 86\n",
      "размер 86\n",
      "приходить 79\n",
      "платье 79\n",
      "заказ 78\n",
      "весь 68\n",
      "магазин 61\n",
      "подходить 55\n",
      "отличный 54\n",
      "свой 48\n",
      "быстрый 47\n",
      "быстро 47\n"
     ]
    }
   ],
   "source": [
    "mpp = maj_words(mapOfWordsFake)"
   ]
  },
  {
   "cell_type": "code",
   "execution_count": 49,
   "metadata": {},
   "outputs": [
    {
     "data": {
      "image/png": "[encoded data removed]",
      "text/plain": [
       "<Figure size 432x288 with 1 Axes>"
      ]
     },
     "metadata": {
      "needs_background": "light"
     },
     "output_type": "display_data"
    }
   ],
   "source": [
    "word_cloud(mpp, 'mpp.jpg')"
   ]
  },
  {
   "cell_type": "markdown",
   "metadata": {},
   "source": [
    "Общих слов в топах mapOfWordsFake и mapOfWordsReal:"
   ]
  },
  {
   "cell_type": "code",
   "execution_count": 50,
   "metadata": {},
   "outputs": [
    {
     "data": {
      "text/plain": [
       "57"
      ]
     },
     "execution_count": 50,
     "metadata": {},
     "output_type": "execute_result"
    }
   ],
   "source": [
    "common_items = list((Counter(mpp) & Counter(mpn)).elements())\n",
    "len(common_items)"
   ]
  },
  {
   "cell_type": "code",
   "execution_count": 51,
   "metadata": {},
   "outputs": [
    {
     "name": "stdout",
     "output_type": "stream",
     "text": [
      "заказывать 1070\n",
      "спасибо 908\n",
      "качество 865\n",
      "очень 612\n",
      "приходить 611\n",
      "размер 444\n",
      "виктор 420\n",
      "весь 334\n",
      "хороший 315\n",
      "день 304\n",
      "довольный 281\n",
      "доставка 278\n",
      "магазин 271\n",
      "отличный 239\n",
      "большой 233\n",
      "подходить 214\n",
      "носок 212\n",
      "подарок 208\n",
      "это 207\n",
      "кроссовок 207\n"
     ]
    }
   ],
   "source": [
    "mpa = maj_words(mapOfAllWords)"
   ]
  },
  {
   "cell_type": "code",
   "execution_count": 52,
   "metadata": {},
   "outputs": [
    {
     "data": {
      "image/png": "[encoded data removed]",
      "text/plain": [
       "<Figure size 432x288 with 1 Axes>"
      ]
     },
     "metadata": {
      "needs_background": "light"
     },
     "output_type": "display_data"
    }
   ],
   "source": [
    "word_cloud(mpa, 'maj.jpg')"
   ]
  },
  {
   "cell_type": "code",
   "execution_count": 53,
   "metadata": {},
   "outputs": [],
   "source": [
    "word_vectorizer = TfidfVectorizer(max_features=250000,  \n",
    "                                  stop_words=stop_words,\n",
    "                                  analyzer='word',\n",
    "                                  ngram_range=(1,2))"
   ]
  },
  {
   "cell_type": "markdown",
   "metadata": {},
   "source": [
    "Топ-10 слов по TF-IDF:"
   ]
  },
  {
   "cell_type": "code",
   "execution_count": 54,
   "metadata": {},
   "outputs": [
    {
     "data": {
      "text/plain": [
       "['реальный',\n",
       " 'роооозовой',\n",
       " 'принцепа',\n",
       " 'мупер',\n",
       " 'принимать',\n",
       " 'мучительный',\n",
       " 'мысль',\n",
       " 'прикреплять',\n",
       " 'прикольно',\n",
       " 'прийшов']"
      ]
     },
     "execution_count": 54,
     "metadata": {},
     "output_type": "execute_result"
    }
   ],
   "source": [
    "# только реальные отзывы\n",
    "\n",
    "TFIDF = word_vectorizer.fit_transform(bagOfFake)\n",
    "indices = np.argsort(word_vectorizer.idf_)[::-1]\n",
    "features = word_vectorizer.get_feature_names()\n",
    "top_n = 10\n",
    "top_features = [features[i] for i in indices[:top_n]]\n",
    "top_features"
   ]
  },
  {
   "cell_type": "code",
   "execution_count": 55,
   "metadata": {},
   "outputs": [
    {
     "data": {
      "text/plain": [
       "['ясно',\n",
       " 'нк',\n",
       " 'нервничать',\n",
       " 'нереальный',\n",
       " 'несоответствие',\n",
       " 'нидавно',\n",
       " 'ниже',\n",
       " 'никто',\n",
       " 'ниодный',\n",
       " 'нисколько']"
      ]
     },
     "execution_count": 55,
     "metadata": {},
     "output_type": "execute_result"
    }
   ],
   "source": [
    "# только фейковые отзывы\n",
    "\n",
    "TFIDF = word_vectorizer.fit_transform(bagOfReal)\n",
    "indices = np.argsort(word_vectorizer.idf_)[::-1]\n",
    "features = word_vectorizer.get_feature_names()\n",
    "top_n = 10\n",
    "top_features = [features[i] for i in indices[:top_n]]\n",
    "top_features"
   ]
  },
  {
   "cell_type": "code",
   "execution_count": 56,
   "metadata": {},
   "outputs": [
    {
     "data": {
      "text/plain": [
       "['ясно',\n",
       " 'пох',\n",
       " 'поход',\n",
       " 'походить',\n",
       " 'похуй',\n",
       " 'кажется',\n",
       " 'почитать',\n",
       " 'каефа',\n",
       " 'ка',\n",
       " 'ппц']"
      ]
     },
     "execution_count": 56,
     "metadata": {},
     "output_type": "execute_result"
    }
   ],
   "source": [
    "# весь корпус\n",
    "\n",
    "TFIDF = word_vectorizer.fit_transform(bagOfAll)\n",
    "indices = np.argsort(word_vectorizer.idf_)[::-1]\n",
    "features = word_vectorizer.get_feature_names()\n",
    "top_n = 10\n",
    "top_features = [features[i] for i in indices[:top_n]]\n",
    "top_features"
   ]
  },
  {
   "cell_type": "markdown",
   "metadata": {},
   "source": [
    "## Создание тестовой и тренировочной выборок"
   ]
  },
  {
   "cell_type": "code",
   "execution_count": 57,
   "metadata": {},
   "outputs": [],
   "source": [
    "df_end = df_lem.stem\n",
    "\n",
    "stem_str = []\n",
    "for i in df_end:\n",
    "    stem_str.append(' '.join(i))"
   ]
  },
  {
   "cell_type": "code",
   "execution_count": 58,
   "metadata": {},
   "outputs": [],
   "source": [
    "df_end = df_lem.copy()\n",
    "df_end['lem_str'] = stem_str"
   ]
  },
  {
   "cell_type": "code",
   "execution_count": 59,
   "metadata": {},
   "outputs": [],
   "source": [
    "x = df_end['lem_str']\n",
    "y = df_lem.is_fake\n",
    "\n",
    "from sklearn.model_selection import train_test_split\n",
    "x_train, x_test, y_train, y_test = train_test_split(x, y, test_size=0.30, random_state=21)"
   ]
  },
  {
   "cell_type": "code",
   "execution_count": 60,
   "metadata": {},
   "outputs": [],
   "source": [
    "train_words = word_vectorizer.transform(x_train)\n",
    "test_words = word_vectorizer.transform(x_test)"
   ]
  },
  {
   "cell_type": "markdown",
   "metadata": {},
   "source": [
    "# ОБУЧЕНИЕ МОДЕЛЕЙ"
   ]
  },
  {
   "cell_type": "code",
   "execution_count": 73,
   "metadata": {},
   "outputs": [],
   "source": [
    "# шаблон вывода оценок качества модели\n",
    "\n",
    "def results(y_test, pred):\n",
    "    print('accuracy_score: {}'.format(round(accuracy_score(y_test, pred), 3)))\n",
    "    print('confusion_matrix: \\n{}'.format(confusion_matrix(y_test, pred)))\n",
    "    print('f1_score: {}'.format(round(f1_score(y_test, pred), 3)))\n",
    "    print('roc_auc_score: {}'.format(round(roc_auc_score(y_test, pred), 3)))"
   ]
  },
  {
   "cell_type": "markdown",
   "metadata": {},
   "source": [
    "# Logistic regression"
   ]
  },
  {
   "cell_type": "markdown",
   "metadata": {},
   "source": [
    "#### Начальный результат"
   ]
  },
  {
   "cell_type": "code",
   "execution_count": 74,
   "metadata": {},
   "outputs": [
    {
     "name": "stdout",
     "output_type": "stream",
     "text": [
      "accuracy_score: 0.832\n",
      "confusion_matrix: \n",
      "[[353  11]\n",
      " [ 72  58]]\n",
      "f1_score: 0.583\n",
      "roc_auc_score: 0.708\n"
     ]
    }
   ],
   "source": [
    "logreg = LogisticRegression()\n",
    "logreg.fit(train_words, y_train)\n",
    "pred = logreg.predict(test_words)\n",
    "\n",
    "results(y_test, pred)"
   ]
  },
  {
   "cell_type": "markdown",
   "metadata": {},
   "source": [
    "#### Подбор параметров"
   ]
  },
  {
   "cell_type": "code",
   "execution_count": 75,
   "metadata": {},
   "outputs": [
    {
     "data": {
      "text/plain": [
       "{'C': 10, 'class_weight': {1: 0.7, 0: 0.3}, 'penalty': 'l1'}"
      ]
     },
     "execution_count": 75,
     "metadata": {},
     "output_type": "execute_result"
    }
   ],
   "source": [
    "parameters = {'C': [.1, 1, 5, 10, 15, 50, 100],\n",
    "              'penalty': ['l1', 'l2'],\n",
    "              'class_weight': ['balanced', {1: 0.7, 0: 0.3}]}\n",
    "\n",
    "clf = LogisticRegression()\n",
    "gridSearchCV = GridSearchCV(clf, parameters)\n",
    "gridSearchCV.fit(train_words, y_train)\n",
    "\n",
    "gridSearchCV.best_params_"
   ]
  },
  {
   "cell_type": "markdown",
   "metadata": {},
   "source": [
    "#### Конечный результат"
   ]
  },
  {
   "cell_type": "code",
   "execution_count": 76,
   "metadata": {},
   "outputs": [
    {
     "name": "stdout",
     "output_type": "stream",
     "text": [
      "accuracy_score: 0.832\n",
      "confusion_matrix: \n",
      "[[325  39]\n",
      " [ 44  86]]\n",
      "f1_score: 0.675\n",
      "roc_auc_score: 0.777\n"
     ]
    }
   ],
   "source": [
    "logreg = LogisticRegression(C=10, class_weight={1: 0.7, 0: 0.3}, penalty='l1')\n",
    "logreg.fit(train_words, y_train)\n",
    "pred = logreg.predict(test_words)\n",
    "\n",
    "results(y_test, pred)"
   ]
  },
  {
   "cell_type": "markdown",
   "metadata": {},
   "source": [
    "# Bernoulli Naive Bayes"
   ]
  },
  {
   "cell_type": "markdown",
   "metadata": {},
   "source": [
    "#### Начальный результат"
   ]
  },
  {
   "cell_type": "code",
   "execution_count": 77,
   "metadata": {},
   "outputs": [
    {
     "name": "stdout",
     "output_type": "stream",
     "text": [
      "accuracy_score: 0.759\n",
      "confusion_matrix: \n",
      "[[364   0]\n",
      " [119  11]]\n",
      "f1_score: 0.156\n",
      "roc_auc_score: 0.542\n"
     ]
    }
   ],
   "source": [
    "bnb = BernoulliNB()\n",
    "bnb.fit(train_words.toarray(), y_train)\n",
    "pred = bnb.predict(test_words.toarray())\n",
    "\n",
    "results(y_test, pred)"
   ]
  },
  {
   "cell_type": "markdown",
   "metadata": {},
   "source": [
    "#### Подбор параметров"
   ]
  },
  {
   "cell_type": "code",
   "execution_count": 78,
   "metadata": {},
   "outputs": [
    {
     "data": {
      "text/plain": [
       "{'alpha': 0.112}"
      ]
     },
     "execution_count": 78,
     "metadata": {},
     "output_type": "execute_result"
    }
   ],
   "source": [
    "parameters = {\"alpha\": np.linspace(0.001, 1, 100)}\n",
    "\n",
    "clf = BernoulliNB()\n",
    "gridSearchCV = GridSearchCV(clf, parameters)\n",
    "gridSearchCV.fit(train_words, y_train)\n",
    "\n",
    "gridSearchCV.best_params_"
   ]
  },
  {
   "cell_type": "markdown",
   "metadata": {},
   "source": [
    "#### Конечный результат"
   ]
  },
  {
   "cell_type": "code",
   "execution_count": 80,
   "metadata": {},
   "outputs": [
    {
     "name": "stdout",
     "output_type": "stream",
     "text": [
      "accuracy_score: 0.81\n",
      "confusion_matrix: \n",
      "[[340  24]\n",
      " [ 70  60]]\n",
      "f1_score: 0.561\n",
      "roc_auc_score: 0.698\n"
     ]
    }
   ],
   "source": [
    "bnb = BernoulliNB(alpha=0.112)\n",
    "bnb.fit(train_words.toarray(), y_train)\n",
    "pred = bnb.predict(test_words.toarray())\n",
    "\n",
    "results(y_test, pred)"
   ]
  },
  {
   "cell_type": "markdown",
   "metadata": {},
   "source": [
    "# k-nearest neighbors"
   ]
  },
  {
   "cell_type": "markdown",
   "metadata": {},
   "source": [
    "#### Начальный результат"
   ]
  },
  {
   "cell_type": "code",
   "execution_count": 81,
   "metadata": {},
   "outputs": [
    {
     "name": "stdout",
     "output_type": "stream",
     "text": [
      "accuracy_score: 0.796\n",
      "confusion_matrix: \n",
      "[[354  10]\n",
      " [ 91  39]]\n",
      "f1_score: 0.436\n",
      "roc_auc_score: 0.636\n"
     ]
    }
   ],
   "source": [
    "knn = KNeighborsClassifier()\n",
    "knn.fit(train_words.toarray(), y_train)\n",
    "pred = knn.predict(test_words.toarray())\n",
    "\n",
    "results(y_test, pred)"
   ]
  },
  {
   "cell_type": "markdown",
   "metadata": {},
   "source": [
    "#### Подбор параметров"
   ]
  },
  {
   "cell_type": "code",
   "execution_count": 82,
   "metadata": {},
   "outputs": [
    {
     "data": {
      "text/plain": [
       "{'n_neighbors': 3, 'p': 2}"
      ]
     },
     "execution_count": 82,
     "metadata": {},
     "output_type": "execute_result"
    }
   ],
   "source": [
    "parameters = {\"n_neighbors\": [i for i in range(1, 15)], \n",
    "              \"p\": [1,2]}\n",
    "\n",
    "clf = KNeighborsClassifier()\n",
    "gridSearchCV = GridSearchCV(clf, parameters)\n",
    "gridSearchCV.fit(train_words, y_train)\n",
    "\n",
    "gridSearchCV.best_params_"
   ]
  },
  {
   "cell_type": "markdown",
   "metadata": {},
   "source": [
    "#### Конечный результат"
   ]
  },
  {
   "cell_type": "code",
   "execution_count": 83,
   "metadata": {},
   "outputs": [
    {
     "name": "stdout",
     "output_type": "stream",
     "text": [
      "accuracy_score: 0.794\n",
      "confusion_matrix: \n",
      "[[338  26]\n",
      " [ 76  54]]\n",
      "f1_score: 0.514\n",
      "roc_auc_score: 0.672\n"
     ]
    }
   ],
   "source": [
    "knn = KNeighborsClassifier(n_neighbors=3)\n",
    "knn.fit(train_words.toarray(), y_train)\n",
    "pred = knn.predict(test_words.toarray())\n",
    "\n",
    "results(y_test, pred)"
   ]
  },
  {
   "cell_type": "markdown",
   "metadata": {},
   "source": [
    "# Random Forest"
   ]
  },
  {
   "cell_type": "markdown",
   "metadata": {},
   "source": [
    "#### Начальный результат"
   ]
  },
  {
   "cell_type": "code",
   "execution_count": 84,
   "metadata": {},
   "outputs": [
    {
     "name": "stdout",
     "output_type": "stream",
     "text": [
      "accuracy_score: 0.854\n",
      "confusion_matrix: \n",
      "[[352  12]\n",
      " [ 60  70]]\n",
      "f1_score: 0.66\n",
      "roc_auc_score: 0.753\n"
     ]
    }
   ],
   "source": [
    "rfclf = RandomForestClassifier()\n",
    "rfclf.fit(train_words, y_train)\n",
    "pred = rfclf.predict(test_words)\n",
    "\n",
    "results(y_test, pred)"
   ]
  },
  {
   "cell_type": "markdown",
   "metadata": {},
   "source": [
    "#### Подбор параметров"
   ]
  },
  {
   "cell_type": "code",
   "execution_count": 91,
   "metadata": {},
   "outputs": [
    {
     "data": {
      "text/plain": [
       "{'criterion': 'entropy', 'max_depth': 100, 'n_estimators': 50}"
      ]
     },
     "execution_count": 91,
     "metadata": {},
     "output_type": "execute_result"
    }
   ],
   "source": [
    "# Select best RandomForest model with cross validation\n",
    "possibleRandomForestParameters = [{\n",
    "        'n_estimators': [10, 25, 50, 100],\n",
    "        'max_depth': [5, 10, 50, 100, 250, 500, 1000],\n",
    "        'criterion': ['gini', 'entropy']}]\n",
    "\n",
    "randomForestModel = RandomForestClassifier()\n",
    "\n",
    "gridSearchCV = GridSearchCV(estimator=randomForestModel,\n",
    "                            param_grid=possibleRandomForestParameters)\n",
    "gridSearchCV.fit(train_words, y_train)\n",
    "\n",
    "gridSearchCV.best_params_"
   ]
  },
  {
   "cell_type": "markdown",
   "metadata": {},
   "source": [
    "#### Конечный результат"
   ]
  },
  {
   "cell_type": "code",
   "execution_count": 106,
   "metadata": {},
   "outputs": [
    {
     "name": "stdout",
     "output_type": "stream",
     "text": [
      "accuracy_score: 0.852\n",
      "confusion_matrix: \n",
      "[[352  12]\n",
      " [ 61  69]]\n",
      "f1_score: 0.654\n",
      "roc_auc_score: 0.749\n"
     ]
    }
   ],
   "source": [
    "rfclf = RandomForestClassifier(criterion='entropy', max_depth=100, n_estimators=50)\n",
    "rfclf.fit(train_words, y_train)\n",
    "pred = rfclf.predict(test_words)\n",
    "\n",
    "results(y_test, pred)"
   ]
  },
  {
   "cell_type": "markdown",
   "metadata": {},
   "source": [
    "# Gradient Boosting"
   ]
  },
  {
   "cell_type": "markdown",
   "metadata": {},
   "source": [
    "#### Начальный результат"
   ]
  },
  {
   "cell_type": "code",
   "execution_count": 94,
   "metadata": {},
   "outputs": [
    {
     "name": "stdout",
     "output_type": "stream",
     "text": [
      "accuracy_score: 0.824\n",
      "confusion_matrix: \n",
      "[[353  11]\n",
      " [ 76  54]]\n",
      "f1_score: 0.554\n",
      "roc_auc_score: 0.693\n"
     ]
    }
   ],
   "source": [
    "gb = GradientBoostingClassifier()\n",
    "gb.fit(train_words.toarray(), y_train)\n",
    "pred = gb.predict(test_words.toarray())\n",
    "\n",
    "results(y_test, pred)"
   ]
  },
  {
   "cell_type": "markdown",
   "metadata": {},
   "source": [
    "#### Подбор параметров"
   ]
  },
  {
   "cell_type": "code",
   "execution_count": 96,
   "metadata": {},
   "outputs": [
    {
     "data": {
      "text/plain": [
       "{'max_depth': 15, 'n_estimators': 46}"
      ]
     },
     "execution_count": 96,
     "metadata": {},
     "output_type": "execute_result"
    }
   ],
   "source": [
    "param = {'n_estimators': range(2, 50, 2),\n",
    "         'max_depth': range(3, 20, 2)}\n",
    "gsearch1 = GridSearchCV(estimator=GradientBoostingClassifier(),\n",
    "                       param_grid=param,\n",
    "                       scoring='roc_auc')\n",
    "gsearch1.fit(train_words.toarray(), y_train)\n",
    "\n",
    "gsearch1.best_params_"
   ]
  },
  {
   "cell_type": "code",
   "execution_count": 97,
   "metadata": {},
   "outputs": [
    {
     "data": {
      "text/plain": [
       "{'min_samples_leaf': 60, 'min_samples_split': 500}"
      ]
     },
     "execution_count": 97,
     "metadata": {},
     "output_type": "execute_result"
    }
   ],
   "source": [
    "param = {'min_samples_split': range(100, 801, 200),\n",
    "         'min_samples_leaf': range(60, 101, 10)}\n",
    "gsearch2 = GridSearchCV(estimator=GradientBoostingClassifier(),\n",
    "                       param_grid=param,\n",
    "                       scoring='roc_auc')\n",
    "gsearch2.fit(train_words.toarray(), y_train)\n",
    "\n",
    "gsearch2.best_params_"
   ]
  },
  {
   "cell_type": "markdown",
   "metadata": {},
   "source": [
    "#### Конечный результат"
   ]
  },
  {
   "cell_type": "code",
   "execution_count": 98,
   "metadata": {},
   "outputs": [
    {
     "name": "stdout",
     "output_type": "stream",
     "text": [
      "accuracy_score: 0.779\n",
      "confusion_matrix: \n",
      "[[341  23]\n",
      " [ 86  44]]\n",
      "f1_score: 0.447\n",
      "roc_auc_score: 0.638\n"
     ]
    }
   ],
   "source": [
    "gb = GradientBoostingClassifier(n_estimators=46, max_depth=15,\n",
    "                                min_samples_split=500, min_samples_leaf=60)\n",
    "gb.fit(train_words.toarray(), y_train)\n",
    "pred = gb.predict(test_words.toarray())\n",
    "\n",
    "results(y_test, pred)"
   ]
  },
  {
   "cell_type": "markdown",
   "metadata": {},
   "source": [
    "# Метод опорных векторов"
   ]
  },
  {
   "cell_type": "code",
   "execution_count": 104,
   "metadata": {},
   "outputs": [],
   "source": [
    "from sklearn.svm import SVC\n",
    "from sklearn.pipeline import make_pipeline\n",
    "from sklearn.preprocessing import StandardScaler"
   ]
  },
  {
   "cell_type": "markdown",
   "metadata": {},
   "source": [
    "#### Начальный результат"
   ]
  },
  {
   "cell_type": "code",
   "execution_count": 100,
   "metadata": {},
   "outputs": [
    {
     "name": "stdout",
     "output_type": "stream",
     "text": [
      "accuracy_score: 0.767\n",
      "confusion_matrix: \n",
      "[[363   1]\n",
      " [114  16]]\n",
      "f1_score: 0.218\n",
      "roc_auc_score: 0.56\n"
     ]
    }
   ],
   "source": [
    "SVC = make_pipeline(StandardScaler(), SVC())\n",
    "SVC.fit(train_words.toarray(), y_train)\n",
    "pred = SVC.predict(test_words.toarray())\n",
    "\n",
    "results(y_test, pred)"
   ]
  },
  {
   "cell_type": "markdown",
   "metadata": {},
   "source": [
    "#### Подбор параметров"
   ]
  },
  {
   "cell_type": "code",
   "execution_count": 103,
   "metadata": {},
   "outputs": [
    {
     "name": "stdout",
     "output_type": "stream",
     "text": [
      "{'svc__C': 100.0, 'svc__gamma': 0.001}\n"
     ]
    }
   ],
   "source": [
    "param_grid_pipeline = {'svc__C': 10. ** np.arange(-3, 3),\n",
    "                       'svc__gamma': 10. ** np.arange(-3, 3)}\n",
    "\n",
    "scaler_pipe = make_pipeline(StandardScaler(), SVC())\n",
    "grid = GridSearchCV(scaler_pipe, param_grid=param_grid_pipeline, cv=5)\n",
    "grid.fit(train_words.toarray(), y_train)\n",
    "\n",
    "print(grid.best_params_)"
   ]
  },
  {
   "cell_type": "markdown",
   "metadata": {},
   "source": [
    "#### Конечный результат"
   ]
  },
  {
   "cell_type": "code",
   "execution_count": 105,
   "metadata": {},
   "outputs": [
    {
     "name": "stdout",
     "output_type": "stream",
     "text": [
      "accuracy_score: 0.83\n",
      "confusion_matrix: \n",
      "[[342  22]\n",
      " [ 62  68]]\n",
      "f1_score: 0.618\n",
      "roc_auc_score: 0.731\n"
     ]
    }
   ],
   "source": [
    "SVC = make_pipeline(StandardScaler(), SVC(C=100.0, gamma=0.001))\n",
    "SVC.fit(train_words.toarray(), y_train)\n",
    "pred = SVC.predict(test_words.toarray())\n",
    "\n",
    "results(y_test, pred)"
   ]
  },
  {
   "cell_type": "code",
   "execution_count": null,
   "metadata": {},
   "outputs": [],
   "source": []
  }
 ],
 "metadata": {
  "kernelspec": {
   "display_name": "Python 3",
   "language": "python",
   "name": "python3"
  },
  "language_info": {
   "codemirror_mode": {
    "name": "ipython",
    "version": 3
   },
   "file_extension": ".py",
   "mimetype": "text/x-python",
   "name": "python",
   "nbconvert_exporter": "python",
   "pygments_lexer": "ipython3",
   "version": "3.7.3"
  }
 },
 "nbformat": 4,
 "nbformat_minor": 2
}
